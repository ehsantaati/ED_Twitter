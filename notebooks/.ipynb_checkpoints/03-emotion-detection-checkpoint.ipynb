{
 "cells": [
  {
   "cell_type": "markdown",
   "metadata": {},
   "source": [
    "<p style=\"text-align:center;font-size:200%;\"><b>Emotion Detection on Tweets</b></p>\n",
    "<p style=\"text-align:center;font-size:150%;\"><b>fine-tuning BERT</b></p>\n"
   ]
  },
  {
   "cell_type": "markdown",
   "metadata": {},
   "source": [
    "# Requirement"
   ]
  },
  {
   "cell_type": "code",
   "execution_count": 1,
   "metadata": {
    "ExecuteTime": {
     "end_time": "2020-10-23T20:47:55.316174Z",
     "start_time": "2020-10-23T20:47:53.024434Z"
    }
   },
   "outputs": [],
   "source": [
    "import torch\n",
    "import pandas as pd\n",
    "from tqdm.notebook import tqdm \n",
    "import numpy as np\n",
    "import os\n",
    "from torch.utils.data import DataLoader, RandomSampler, SequentialSampler\n",
    "from transformers import BertForSequenceClassification\n",
    "from torch.utils.data import TensorDataset \n",
    "from torch.utils.data import DataLoader, RandomSampler, SequentialSampler\n",
    "from sklearn.model_selection import train_test_split\n",
    "from transformers import AdamW, get_linear_schedule_with_warmup\n",
    "import random\n",
    "import matplotlib.pyplot as plt\n",
    "# loading custome packages\n",
    "os.chdir('..')\n",
    "from twitterED.utilities.utils import get_length , tokenizer, encoding_data ,text_cleaning, get_files\n",
    "from twitterED.network.model import BERT\n",
    "from twitterED.utilities.metrics import f1_score_func, accuracy_per_class,evaluate"
   ]
  },
  {
   "cell_type": "markdown",
   "metadata": {},
   "source": [
    "# Data"
   ]
  },
  {
   "cell_type": "code",
   "execution_count": 2,
   "metadata": {
    "ExecuteTime": {
     "end_time": "2020-10-02T13:10:32.124284Z",
     "start_time": "2020-10-02T13:10:32.046286Z"
    }
   },
   "outputs": [
    {
     "name": "stdout",
     "output_type": "stream",
     "text": [
      "train set shape:(7102, 2) \n",
      "test set shape:(3142, 2)\n"
     ]
    }
   ],
   "source": [
    "# loading data\n",
    "flist = get_files('./data/raw/wassa/',ext ='.txt')\n",
    "# loading train set\n",
    "df_tr = pd.DataFrame(columns=['tweet','emotion'])\n",
    "for fname in flist:\n",
    "    if 'train' or 'dev' in fname:\n",
    "        dataframe = pd.read_csv(fname,names=['tweet','emotion','_'],error_bad_lines=False,sep='\\t').iloc[:,0:2]\n",
    "        df_tr=pd.concat([df_tr,dataframe])\n",
    "#loading test set        \n",
    "df_test = pd.DataFrame(columns=['tweet','emotion'])\n",
    "for fname in flist:\n",
    "    if 'test' in fname:\n",
    "        dataframe = pd.read_csv(fname,names=['tweet','emotion','_'],error_bad_lines=False,sep='\\t').iloc[:,0:2]\n",
    "        df_test=pd.concat([df_test,dataframe])\n",
    "print(f'train set shape:{df_tr.shape} \\ntest set shape:{df_test.shape}')"
   ]
  },
  {
   "cell_type": "code",
   "execution_count": 3,
   "metadata": {
    "ExecuteTime": {
     "end_time": "2020-10-02T13:10:33.140035Z",
     "start_time": "2020-10-02T13:10:33.024037Z"
    }
   },
   "outputs": [
    {
     "data": {
      "image/png": "[encoded data removed]",
      "text/plain": [
       "<Figure size 432x288 with 1 Axes>"
      ]
     },
     "metadata": {
      "needs_background": "light"
     },
     "output_type": "display_data"
    }
   ],
   "source": [
    "# plotting emotion counts in train set\n",
    "ax =df_tr['emotion'].value_counts().plot.bar(x='lab', y='val', rot=0,color = list('rgbkymc'))"
   ]
  },
  {
   "cell_type": "markdown",
   "metadata": {},
   "source": [
    "## Preprocessing"
   ]
  },
  {
   "cell_type": "code",
   "execution_count": 6,
   "metadata": {
    "ExecuteTime": {
     "end_time": "2020-10-02T13:11:27.533130Z",
     "start_time": "2020-10-02T13:11:27.343010Z"
    }
   },
   "outputs": [],
   "source": [
    "#cleaning text\n",
    "\n",
    "# fixing contarctions\n",
    "df_tr['tweet']= df_tr['tweet'].apply(text_cleaning.fix_contractions)\n",
    "df_test['tweet']= df_test['tweet'].apply(text_cleaning.fix_contractions)\n",
    "# remove accent characters\n",
    "df_tr['tweet']= df_tr['tweet'].apply(text_cleaning.remove_accented_chars)\n",
    "df_test['tweet']= df_test['tweet'].apply(text_cleaning.remove_accented_chars)\n",
    "# remove digits\n",
    "df_tr['tweet']= df_tr['tweet'].apply(text_cleaning.remove_digits)\n",
    "df_test['tweet']= df_test['tweet'].apply(text_cleaning.remove_digits)\n",
    "#remove excess withe spaces\n",
    "df_tr['tweet']= df_tr['tweet'].apply(text_cleaning.remove_excess_whitespace)\n",
    "df_test['tweet']= df_test['tweet'].apply(text_cleaning.remove_excess_whitespace)\n",
    "# remove punctuations except ?!\n",
    "df_tr['tweet']= df_tr['tweet'].apply(text_cleaning.rm_punctuation2)\n",
    "df_test['tweet']= df_test['tweet'].apply(text_cleaning.rm_punctuation2)\n",
    "# teurn to lower case\n",
    "df_tr['tweet']= df_tr['tweet'].apply(text_cleaning.lower)\n",
    "df_test['tweet']= df_test['tweet'].apply(text_cleaning.lower)"
   ]
  },
  {
   "cell_type": "code",
   "execution_count": 7,
   "metadata": {
    "ExecuteTime": {
     "end_time": "2020-10-02T13:11:28.584143Z",
     "start_time": "2020-10-02T13:11:28.574637Z"
    }
   },
   "outputs": [
    {
     "data": {
      "text/html": [
       "<div>\n",
       "<style scoped>\n",
       "    .dataframe tbody tr th:only-of-type {\n",
       "        vertical-align: middle;\n",
       "    }\n",
       "\n",
       "    .dataframe tbody tr th {\n",
       "        vertical-align: top;\n",
       "    }\n",
       "\n",
       "    .dataframe thead th {\n",
       "        text-align: right;\n",
       "    }\n",
       "</style>\n",
       "<table border=\"1\" class=\"dataframe\">\n",
       "  <thead>\n",
       "    <tr style=\"text-align: right;\">\n",
       "      <th></th>\n",
       "      <th>tweet</th>\n",
       "      <th>emotion</th>\n",
       "    </tr>\n",
       "  </thead>\n",
       "  <tbody>\n",
       "    <tr>\n",
       "      <th>10857</th>\n",
       "      <td>zubairsabirpti pls do not insult the word molna</td>\n",
       "      <td>anger</td>\n",
       "    </tr>\n",
       "    <tr>\n",
       "      <th>10858</th>\n",
       "      <td>arcticfantasy i would have almost took offense...</td>\n",
       "      <td>anger</td>\n",
       "    </tr>\n",
       "    <tr>\n",
       "      <th>10859</th>\n",
       "      <td>illinoisloyalty that rutgers game was an abomi...</td>\n",
       "      <td>anger</td>\n",
       "    </tr>\n",
       "    <tr>\n",
       "      <th>10860</th>\n",
       "      <td>cozangaming that is what lisa asked before she...</td>\n",
       "      <td>anger</td>\n",
       "    </tr>\n",
       "    <tr>\n",
       "      <th>10861</th>\n",
       "      <td>sometimes i get mad over something so minuscul...</td>\n",
       "      <td>anger</td>\n",
       "    </tr>\n",
       "  </tbody>\n",
       "</table>\n",
       "</div>"
      ],
      "text/plain": [
       "                                                   tweet emotion\n",
       "10857    zubairsabirpti pls do not insult the word molna   anger\n",
       "10858  arcticfantasy i would have almost took offense...   anger\n",
       "10859  illinoisloyalty that rutgers game was an abomi...   anger\n",
       "10860  cozangaming that is what lisa asked before she...   anger\n",
       "10861  sometimes i get mad over something so minuscul...   anger"
      ]
     },
     "execution_count": 7,
     "metadata": {},
     "output_type": "execute_result"
    }
   ],
   "source": [
    "df_tr.head()"
   ]
  },
  {
   "cell_type": "code",
   "execution_count": 9,
   "metadata": {
    "ExecuteTime": {
     "end_time": "2020-10-02T13:12:46.745582Z",
     "start_time": "2020-10-02T13:12:46.733584Z"
    }
   },
   "outputs": [
    {
     "data": {
      "text/plain": [
       "{'anger': 0, 'fear': 1, 'joy': 2, 'sadness': 3}"
      ]
     },
     "execution_count": 9,
     "metadata": {},
     "output_type": "execute_result"
    }
   ],
   "source": [
    "#class to integer\n",
    "possible_labels = df_tr['emotion'].unique()\n",
    "possible_labels\n",
    "label_dict = {}\n",
    "for index, possible_label in enumerate(possible_labels):\n",
    "    label_dict[possible_label] = index\n",
    "label_dict"
   ]
  },
  {
   "cell_type": "code",
   "execution_count": 12,
   "metadata": {
    "ExecuteTime": {
     "end_time": "2020-10-02T13:13:25.423265Z",
     "start_time": "2020-10-02T13:13:25.405036Z"
    }
   },
   "outputs": [],
   "source": [
    "#We add a new column to our original data-frame, of numbers corresponding to each emotion label\n",
    "df_tr['label'] = [label_dict[str_label] for str_label in df_tr['emotion']]\n",
    "df_test['label'] = [label_dict[str_label] for str_label in df_test['emotion']]"
   ]
  },
  {
   "cell_type": "markdown",
   "metadata": {},
   "source": [
    "## Splitting data to train and vallidation sets"
   ]
  },
  {
   "cell_type": "code",
   "execution_count": 14,
   "metadata": {
    "ExecuteTime": {
     "end_time": "2020-10-02T13:14:03.112197Z",
     "start_time": "2020-10-02T13:14:03.084962Z"
    }
   },
   "outputs": [],
   "source": [
    "x_train, x_val, y_train, y_val = train_test_split(\n",
    "    df_tr.index.values,\n",
    "    df_tr['label'],\n",
    "    test_size = 0.15, #let's do 85-15 train-validation split\n",
    "    random_state=17, #reproducible between my instance and whoever wants to reproduce\n",
    "    stratify= df_tr['label'].values\n",
    ")"
   ]
  },
  {
   "cell_type": "code",
   "execution_count": 18,
   "metadata": {
    "ExecuteTime": {
     "end_time": "2020-10-02T13:15:28.035596Z",
     "start_time": "2020-10-02T13:15:27.810566Z"
    }
   },
   "outputs": [
    {
     "data": {
      "text/plain": [
       "<AxesSubplot:xlabel='emotion,label'>"
      ]
     },
     "execution_count": 18,
     "metadata": {},
     "output_type": "execute_result"
    },
    {
     "data": {
      "image/png": "[encoded data removed]",
      "text/plain": [
       "<Figure size 432x288 with 1 Axes>"
      ]
     },
     "metadata": {
      "needs_background": "light"
     },
     "output_type": "display_data"
    }
   ],
   "source": [
    "# adding a dummy column as data type\n",
    "df_tr['data_type'] = ['not_set']*df_tr.shape[0]\n",
    "df_tr.loc[x_train, 'data_type'] = 'train'\n",
    "df_tr.loc[x_val, 'data_type'] = 'val'\n",
    "df_g = df_tr.groupby(['emotion', 'label', 'data_type']).count()\n",
    "df_g.unstack().plot(kind='bar')"
   ]
  },
  {
   "cell_type": "markdown",
   "metadata": {},
   "source": [
    "## Tokenasation using bert tokeniser"
   ]
  },
  {
   "cell_type": "code",
   "execution_count": 19,
   "metadata": {
    "ExecuteTime": {
     "end_time": "2020-10-02T13:26:52.737991Z",
     "start_time": "2020-10-02T13:26:50.463887Z"
    }
   },
   "outputs": [
    {
     "name": "stdout",
     "output_type": "stream",
     "text": [
      "maximum length of tweet:47\n"
     ]
    }
   ],
   "source": [
    "#getting the maximum lenth of tweets for padding tokens\n",
    "max_len = max(df_tr['tweet'].apply(get_length))\n",
    "print (f'maximum length of tweet:{max_len}')"
   ]
  },
  {
   "cell_type": "code",
   "execution_count": 20,
   "metadata": {
    "ExecuteTime": {
     "end_time": "2020-10-02T13:28:09.906580Z",
     "start_time": "2020-10-02T13:28:07.797395Z"
    }
   },
   "outputs": [
    {
     "name": "stderr",
     "output_type": "stream",
     "text": [
      "C:\\Users\\ehsan\\.conda\\envs\\emodetection\\lib\\site-packages\\transformers\\tokenization_utils_base.py:1770: FutureWarning: The `pad_to_max_length` argument is deprecated and will be removed in a future version, use `padding=True` or `padding='longest'` to pad to the longest sequence in the batch, or use `padding='max_length'` to pad to a max length. In this case, you can give a specific length with `max_length` (e.g. `max_length=45`) or leave max_length to None to pad to the maximal input size of the model (e.g. 512 for Bert).\n",
      "  FutureWarning,\n"
     ]
    }
   ],
   "source": [
    "# encoding data using bert tokeniser\n",
    "## encoding train data\n",
    "train_data = df_tr[df_tr['data_type']=='train'].tweet.values\n",
    "encoded_data_train = encoding_data(train_data, max_len = max_len)\n",
    "#encoding process above returns dictionaries. We grab input ID tokens, attention mask, and labels from this\n",
    "input_ids_train = encoded_data_train['input_ids'] #return each sentence as a #\n",
    "attention_masks_train = encoded_data_train['attention_mask'] #returns a pytorch tensor\n",
    "labels_train = torch.tensor(df_tr[df_tr.data_type=='train'].label.values)\n",
    "\n",
    "## encoding validation data\n",
    "val_data = df_tr[df_tr['data_type']=='val'].tweet.values\n",
    "encoded_data_val = encoding_data(val_data, max_len = max_len)\n",
    "input_ids_val = encoded_data_val['input_ids'] #return each sentence as a #\n",
    "attention_masks_val = encoded_data_val['attention_mask'] #returns a pytorch tensor\n",
    "labels_val = torch.tensor(df_tr[df_tr.data_type=='val'].label.values)"
   ]
  },
  {
   "cell_type": "code",
   "execution_count": 21,
   "metadata": {
    "ExecuteTime": {
     "end_time": "2020-10-02T13:28:31.627099Z",
     "start_time": "2020-10-02T13:28:31.620101Z"
    }
   },
   "outputs": [],
   "source": [
    "# using pytorch to bulid train and validation datasets\n",
    "dataset_train = TensorDataset(input_ids_train, attention_masks_train, labels_train)\n",
    "dataset_validation = TensorDataset(input_ids_val, attention_masks_val, labels_val)"
   ]
  },
  {
   "cell_type": "markdown",
   "metadata": {},
   "source": [
    "# Training"
   ]
  },
  {
   "cell_type": "markdown",
   "metadata": {},
   "source": [
    "## loading model and setting requried parameters"
   ]
  },
  {
   "cell_type": "code",
   "execution_count": 24,
   "metadata": {
    "ExecuteTime": {
     "end_time": "2020-10-02T13:30:49.286662Z",
     "start_time": "2020-10-02T13:30:45.749843Z"
    }
   },
   "outputs": [
    {
     "name": "stderr",
     "output_type": "stream",
     "text": [
      "Some weights of the model checkpoint at bert-base-uncased were not used when initializing BertForSequenceClassification: ['cls.predictions.bias', 'cls.predictions.transform.dense.weight', 'cls.predictions.transform.dense.bias', 'cls.predictions.decoder.weight', 'cls.seq_relationship.weight', 'cls.seq_relationship.bias', 'cls.predictions.transform.LayerNorm.weight', 'cls.predictions.transform.LayerNorm.bias']\n",
      "- This IS expected if you are initializing BertForSequenceClassification from the checkpoint of a model trained on another task or with another architecture (e.g. initializing a BertForSequenceClassification model from a BertForPretraining model).\n",
      "- This IS NOT expected if you are initializing BertForSequenceClassification from the checkpoint of a model that you expect to be exactly identical (initializing a BertForSequenceClassification model from a BertForSequenceClassification model).\n",
      "Some weights of BertForSequenceClassification were not initialized from the model checkpoint at bert-base-uncased and are newly initialized: ['classifier.weight', 'classifier.bias']\n",
      "You should probably TRAIN this model on a down-stream task to be able to use it for predictions and inference.\n"
     ]
    }
   ],
   "source": [
    "# loading the pretrained BERT\n",
    "model = BERT(label_dict=label_dict)"
   ]
  },
  {
   "cell_type": "code",
   "execution_count": 22,
   "metadata": {
    "ExecuteTime": {
     "end_time": "2020-10-02T13:30:16.667506Z",
     "start_time": "2020-10-02T13:30:16.658542Z"
    }
   },
   "outputs": [],
   "source": [
    "# building data loaders\n",
    "batch_size = 16\n",
    "\n",
    "dataloader_train = DataLoader(\n",
    "    dataset_train,\n",
    "    sampler=RandomSampler(dataset_train), #randomise dataset during training\n",
    "    batch_size=batch_size\n",
    ")\n",
    "\n",
    "#batch size of 32 fine because not computationally exhaustive to validate. No backprop for e.g.\n",
    "dataloader_val = DataLoader(\n",
    "    dataset_validation,\n",
    "    sampler=RandomSampler(dataset_validation), #randomise dataset during training\n",
    "    batch_size=batch_size\n",
    ")"
   ]
  },
  {
   "cell_type": "code",
   "execution_count": 25,
   "metadata": {
    "ExecuteTime": {
     "end_time": "2020-10-02T13:31:11.167995Z",
     "start_time": "2020-10-02T13:31:11.149980Z"
    }
   },
   "outputs": [],
   "source": [
    "# optimiser and other parameters\n",
    "optimizer = AdamW(\n",
    "    model.parameters(),\n",
    "    lr=1e-5, #2e-5 > 5e-5: A HYPERPARAMETER\n",
    "    eps=1e-8\n",
    ")\n",
    "\n",
    "#controls learning rate\n",
    "epochs=5 \n",
    "\n",
    "scheduler = get_linear_schedule_with_warmup(\n",
    "    optimizer,\n",
    "    num_warmup_steps=0,\n",
    "    num_training_steps=len(dataloader_train) * epochs\n",
    ")"
   ]
  },
  {
   "cell_type": "markdown",
   "metadata": {},
   "source": [
    "## training"
   ]
  },
  {
   "cell_type": "code",
   "execution_count": 26,
   "metadata": {
    "ExecuteTime": {
     "end_time": "2020-10-02T13:33:11.608278Z",
     "start_time": "2020-10-02T13:33:11.580075Z"
    }
   },
   "outputs": [],
   "source": [
    "# feeding cuda randomly\n",
    "seed_val = 17\n",
    "random.seed(seed_val)\n",
    "np.random.seed(seed_val)\n",
    "torch.manual_seed(seed_val)\n",
    "torch.cuda.manual_seed_all(seed_val) #useful for using a GPU"
   ]
  },
  {
   "cell_type": "code",
   "execution_count": 27,
   "metadata": {
    "ExecuteTime": {
     "end_time": "2020-10-02T13:33:43.526746Z",
     "start_time": "2020-10-02T13:33:38.004272Z"
    }
   },
   "outputs": [
    {
     "name": "stdout",
     "output_type": "stream",
     "text": [
      "cuda\n"
     ]
    }
   ],
   "source": [
    "#to check GPU vs CPU\n",
    "device = torch.device('cuda' if torch.cuda.is_available() else 'cpu')\n",
    "model.to(device)\n",
    "\n",
    "print(device)"
   ]
  },
  {
   "cell_type": "code",
   "execution_count": 29,
   "metadata": {
    "ExecuteTime": {
     "end_time": "2020-10-02T13:42:27.980497Z",
     "start_time": "2020-10-02T13:35:57.919361Z"
    },
    "scrolled": true
   },
   "outputs": [
    {
     "data": {
      "application/vnd.jupyter.widget-view+json": {
       "model_id": "348af9c06c9448d7951c3ce457fcddd4",
       "version_major": 2,
       "version_minor": 0
      },
      "text/plain": [
       "HBox(children=(FloatProgress(value=0.0, max=5.0), HTML(value='')))"
      ]
     },
     "metadata": {},
     "output_type": "display_data"
    },
    {
     "data": {
      "application/vnd.jupyter.widget-view+json": {
       "model_id": "",
       "version_major": 2,
       "version_minor": 0
      },
      "text/plain": [
       "HBox(children=(FloatProgress(value=0.0, description='./wieght/emodtc/Epoch 1', max=378.0, style=ProgressStyle(…"
      ]
     },
     "metadata": {},
     "output_type": "display_data"
    },
    {
     "name": "stdout",
     "output_type": "stream",
     "text": [
      "\r\n",
      "Epoch 1\n",
      "\r",
      "Training loss: 0.9322418925308046\n"
     ]
    },
    {
     "data": {
      "application/vnd.jupyter.widget-view+json": {
       "model_id": "804398c7b5874c9c8613de73b3abffdd",
       "version_major": 2,
       "version_minor": 0
      },
      "text/plain": [
       "HBox(children=(FloatProgress(value=0.0, max=67.0), HTML(value='')))"
      ]
     },
     "metadata": {},
     "output_type": "display_data"
    },
    {
     "name": "stdout",
     "output_type": "stream",
     "text": [
      "\n",
      "\r",
      "Validation loss: 0.47039613394594904\n"
     ]
    },
    {
     "data": {
      "application/vnd.jupyter.widget-view+json": {
       "model_id": "",
       "version_major": 2,
       "version_minor": 0
      },
      "text/plain": [
       "HBox(children=(FloatProgress(value=0.0, description='./wieght/emodtc/Epoch 2', max=378.0, style=ProgressStyle(…"
      ]
     },
     "metadata": {},
     "output_type": "display_data"
    },
    {
     "name": "stdout",
     "output_type": "stream",
     "text": [
      "\r\n",
      "Epoch 2\n",
      "\r",
      "Training loss: 0.41095098907315225\n"
     ]
    },
    {
     "data": {
      "application/vnd.jupyter.widget-view+json": {
       "model_id": "2bea30d2110e463db101692f1d2bfc11",
       "version_major": 2,
       "version_minor": 0
      },
      "text/plain": [
       "HBox(children=(FloatProgress(value=0.0, max=67.0), HTML(value='')))"
      ]
     },
     "metadata": {},
     "output_type": "display_data"
    },
    {
     "name": "stdout",
     "output_type": "stream",
     "text": [
      "\n",
      "\r",
      "Validation loss: 0.32776599677641\n"
     ]
    },
    {
     "data": {
      "application/vnd.jupyter.widget-view+json": {
       "model_id": "",
       "version_major": 2,
       "version_minor": 0
      },
      "text/plain": [
       "HBox(children=(FloatProgress(value=0.0, description='./wieght/emodtc/Epoch 3', max=378.0, style=ProgressStyle(…"
      ]
     },
     "metadata": {},
     "output_type": "display_data"
    },
    {
     "name": "stdout",
     "output_type": "stream",
     "text": [
      "\r\n",
      "Epoch 3\n",
      "\r",
      "Training loss: 0.2837912832145338\n"
     ]
    },
    {
     "data": {
      "application/vnd.jupyter.widget-view+json": {
       "model_id": "79bc1adba3504a17ab5a97a216f8367e",
       "version_major": 2,
       "version_minor": 0
      },
      "text/plain": [
       "HBox(children=(FloatProgress(value=0.0, max=67.0), HTML(value='')))"
      ]
     },
     "metadata": {},
     "output_type": "display_data"
    },
    {
     "name": "stdout",
     "output_type": "stream",
     "text": [
      "\n",
      "\r",
      "Validation loss: 0.3175699544319911\n"
     ]
    },
    {
     "data": {
      "application/vnd.jupyter.widget-view+json": {
       "model_id": "",
       "version_major": 2,
       "version_minor": 0
      },
      "text/plain": [
       "HBox(children=(FloatProgress(value=0.0, description='./wieght/emodtc/Epoch 4', max=378.0, style=ProgressStyle(…"
      ]
     },
     "metadata": {},
     "output_type": "display_data"
    },
    {
     "name": "stdout",
     "output_type": "stream",
     "text": [
      "\r\n",
      "Epoch 4\n",
      "\r",
      "Training loss: 0.2265880527566113\n"
     ]
    },
    {
     "data": {
      "application/vnd.jupyter.widget-view+json": {
       "model_id": "323e2f80bdbb4850b432443190f73c44",
       "version_major": 2,
       "version_minor": 0
      },
      "text/plain": [
       "HBox(children=(FloatProgress(value=0.0, max=67.0), HTML(value='')))"
      ]
     },
     "metadata": {},
     "output_type": "display_data"
    },
    {
     "name": "stdout",
     "output_type": "stream",
     "text": [
      "\n",
      "\r",
      "Validation loss: 0.3365463199260742\n"
     ]
    },
    {
     "data": {
      "application/vnd.jupyter.widget-view+json": {
       "model_id": "",
       "version_major": 2,
       "version_minor": 0
      },
      "text/plain": [
       "HBox(children=(FloatProgress(value=0.0, description='./wieght/emodtc/Epoch 5', max=378.0, style=ProgressStyle(…"
      ]
     },
     "metadata": {},
     "output_type": "display_data"
    },
    {
     "name": "stdout",
     "output_type": "stream",
     "text": [
      "\r\n",
      "Epoch 5\n",
      "\r",
      "Training loss: 0.18409087413567163\n"
     ]
    },
    {
     "data": {
      "application/vnd.jupyter.widget-view+json": {
       "model_id": "3221c45aa62c48adb3d7ff76212f22ef",
       "version_major": 2,
       "version_minor": 0
      },
      "text/plain": [
       "HBox(children=(FloatProgress(value=0.0, max=67.0), HTML(value='')))"
      ]
     },
     "metadata": {},
     "output_type": "display_data"
    },
    {
     "name": "stdout",
     "output_type": "stream",
     "text": [
      "\n",
      "\r",
      "Validation loss: 0.33901460194932437\n",
      "\n"
     ]
    }
   ],
   "source": [
    "Ltr_hist =[]\n",
    "Lval_hist = []\n",
    "for epoch in tqdm(range(1, epochs+1)):\n",
    "    model.train()\n",
    "    \n",
    "    #set to 0 initially, then add each batch's loss iteratively\n",
    "    loss_train_total = 0\n",
    "    \n",
    "    progress_bar = tqdm(dataloader_train, \n",
    "                        desc='./wieght/emodtc/Epoch {:1d}'.format(epoch),\n",
    "                        leave=False, #let it overwrite after each epoch\n",
    "                        disable=False, \n",
    "                       )\n",
    "    for batch in progress_bar:\n",
    "        \n",
    "        #first batch = set gradients to 0\n",
    "        model.zero_grad()\n",
    "        \n",
    "        #dataloader has 3 variables. so it's going to be a tuple of 3 items. making sure each item is on correct device\n",
    "        batch = tuple(b.to(device) for b in batch)\n",
    "        \n",
    "        inputs = {\n",
    "            'input_ids' : batch[0],\n",
    "            'attention_mask' : batch[1],\n",
    "            'labels' : batch[2]\n",
    "        }\n",
    "        \n",
    "        #unpacks dictionary straight into model\n",
    "        outputs = model(**inputs)\n",
    "        \n",
    "        #bert model returns loss and logits\n",
    "        loss = outputs[0]\n",
    "        loss_train_total += loss.item() #add up loss\n",
    "        loss.backward() #backpropagate\n",
    "        \n",
    "        #all weights will be a norm of 1 (normalised weights)\n",
    "        torch.nn.utils.clip_grad_norm_(model.parameters(), 1.0)\n",
    "        \n",
    "        optimizer.step()\n",
    "        scheduler.step()\n",
    "        \n",
    "        #update progress bar to display loss per batch\n",
    "        progress_bar.set_postfix({'training_loss' : '{:3f}'.format(loss.item()/len(batch))})\n",
    "        \n",
    "    #outside the batch loop and inside the epoch loop, so per epoch\n",
    "    #save model checkpoint and print progress\n",
    "    torch.save(model.state_dict(), f'./wieght/emodtc/Epoch-{epoch}.model')\n",
    "    \n",
    "    tqdm.write(f'\\nEpoch {epoch}')\n",
    "    \n",
    "    loss_train_avg = loss_train_total/len(dataloader_train)\n",
    "    Ltr_hist.append(loss_train_avg)\n",
    "    #loss per epoch:\n",
    "    tqdm.write(f'Training loss: {loss_train_avg}')\n",
    "    \n",
    "    #to detect overtraining - happens when training loss goes down and val loss goes up. Starts to\n",
    "    #train perfectly on our data such that its no longer generalisable\n",
    "    #does exactly \n",
    "    val_loss, predictions, true_vals = evaluate(dataloader_val,model = model, device=device) #predictions are the logits\n",
    "    Lval_hist.append(val_loss)\n",
    "    \n",
    "\n",
    "\n",
    "    #_labels, _preds = f1_score_func(predictions, true_vals)\n",
    "    tqdm.write(f'Validation loss: {val_loss}')\n",
    "    #tqdm.write(f'F1 Score (weighted): {val_f1}')\n",
    "    _labels, _preds = f1_score_func(predictions, true_vals)"
   ]
  },
  {
   "cell_type": "code",
   "execution_count": 30,
   "metadata": {
    "ExecuteTime": {
     "end_time": "2020-10-02T13:45:40.902860Z",
     "start_time": "2020-10-02T13:45:40.765706Z"
    }
   },
   "outputs": [
    {
     "data": {
      "text/plain": [
       "<matplotlib.legend.Legend at 0x224ef9b69c8>"
      ]
     },
     "execution_count": 30,
     "metadata": {},
     "output_type": "execute_result"
    },
    {
     "data": {
      "image/png": "[encoded data removed]",
      "text/plain": [
       "<Figure size 1152x288 with 1 Axes>"
      ]
     },
     "metadata": {
      "needs_background": "light"
     },
     "output_type": "display_data"
    }
   ],
   "source": [
    "# plotting the training performance\n",
    "%matplotlib inline\n",
    "_,ax = plt.subplots(1,1,figsize=(16,4))\n",
    "ax.plot(1+np.arange(len(Ltr_hist)),Ltr_hist)\n",
    "ax.plot(1+np.arange(len(Lval_hist)),Lval_hist)\n",
    "ax.grid('on')\n",
    "ax.set_xlim(left=1, right=len(Ltr_hist))\n",
    "ax.set_ylim(bottom =0, top = max(Ltr_hist))\n",
    "ax.legend(['training loss', 'validation loss'])"
   ]
  },
  {
   "cell_type": "markdown",
   "metadata": {},
   "source": [
    "## evaluation"
   ]
  },
  {
   "cell_type": "code",
   "execution_count": 31,
   "metadata": {
    "ExecuteTime": {
     "end_time": "2020-10-02T13:46:50.247792Z",
     "start_time": "2020-10-02T13:46:50.240795Z"
    }
   },
   "outputs": [],
   "source": [
    "model.to(device)\n",
    "pass #so we dont have all that text printed out"
   ]
  },
  {
   "cell_type": "code",
   "execution_count": 32,
   "metadata": {
    "ExecuteTime": {
     "end_time": "2020-10-02T13:47:22.910019Z",
     "start_time": "2020-10-02T13:47:22.417218Z"
    }
   },
   "outputs": [
    {
     "data": {
      "text/plain": [
       "<All keys matched successfully>"
      ]
     },
     "execution_count": 32,
     "metadata": {},
     "output_type": "execute_result"
    }
   ],
   "source": [
    "#trained model on GPU, putting it back to CPU\n",
    "model.load_state_dict(\n",
    "    torch.load('./wieght/emodtc/Epoch-3.model',\n",
    "              map_location=torch.device('cpu')))"
   ]
  },
  {
   "cell_type": "code",
   "execution_count": 33,
   "metadata": {
    "ExecuteTime": {
     "end_time": "2020-10-02T13:47:44.607436Z",
     "start_time": "2020-10-02T13:47:41.010852Z"
    }
   },
   "outputs": [
    {
     "data": {
      "application/vnd.jupyter.widget-view+json": {
       "model_id": "748d72fbb812485c95fbd8f029e9b858",
       "version_major": 2,
       "version_minor": 0
      },
      "text/plain": [
       "HBox(children=(FloatProgress(value=0.0, max=67.0), HTML(value='')))"
      ]
     },
     "metadata": {},
     "output_type": "display_data"
    },
    {
     "name": "stdout",
     "output_type": "stream",
     "text": [
      "\n"
     ]
    }
   ],
   "source": [
    "#evaluating model, not caring about loss anymore which is 1st argument\n",
    "_, predictions, _true_vals = evaluate(dataloader_val,model,device=device)"
   ]
  },
  {
   "cell_type": "code",
   "execution_count": 34,
   "metadata": {
    "ExecuteTime": {
     "end_time": "2020-10-02T13:48:03.108948Z",
     "start_time": "2020-10-02T13:48:03.087674Z"
    }
   },
   "outputs": [
    {
     "name": "stdout",
     "output_type": "stream",
     "text": [
      "Class: anger\n",
      "Accuracy: 90.98\n",
      "Class: fear\n",
      "Accuracy: 85.21\n",
      "Class: joy\n",
      "Accuracy: 93.00\n",
      "Class: sadness\n",
      "Accuracy: 89.57\n"
     ]
    }
   ],
   "source": [
    "# calculating accuracy of the model\n",
    "accuracy_per_class(predictions, _true_vals,label_dict=label_dict)"
   ]
  },
  {
   "cell_type": "markdown",
   "metadata": {},
   "source": [
    "## Test model"
   ]
  },
  {
   "cell_type": "code",
   "execution_count": 36,
   "metadata": {
    "ExecuteTime": {
     "end_time": "2020-10-02T13:49:19.643538Z",
     "start_time": "2020-10-02T13:49:19.552375Z"
    }
   },
   "outputs": [
    {
     "data": {
      "image/png": "[encoded data removed]",
      "text/plain": [
       "<Figure size 432x288 with 1 Axes>"
      ]
     },
     "metadata": {
      "needs_background": "light"
     },
     "output_type": "display_data"
    }
   ],
   "source": [
    "# plotting the cont of account type in test dataset\n",
    "ax =df_test['emotion'].value_counts().plot.bar(x='lab', y='val', rot=0,color = list('rgbkymc'))"
   ]
  },
  {
   "cell_type": "code",
   "execution_count": 38,
   "metadata": {
    "ExecuteTime": {
     "end_time": "2020-10-02T13:49:55.300683Z",
     "start_time": "2020-10-02T13:49:54.303255Z"
    }
   },
   "outputs": [
    {
     "name": "stdout",
     "output_type": "stream",
     "text": [
      "maximum length of tweet:47\n"
     ]
    }
   ],
   "source": [
    "# calculating maximum length of tweets for padding\n",
    "max_len = max(df_test['tweet'].apply(get_length))\n",
    "print (f'maximum length of tweet:{max_len}')"
   ]
  },
  {
   "cell_type": "code",
   "execution_count": 41,
   "metadata": {
    "ExecuteTime": {
     "end_time": "2020-10-02T13:50:42.889175Z",
     "start_time": "2020-10-02T13:50:41.953634Z"
    }
   },
   "outputs": [],
   "source": [
    "# tokenising data\n",
    "test_data = df_test.tweet.values\n",
    "encoded_data_test = encoding_data(test_data, max_len = max_len)\n",
    "#encoding process above returns dictionaries. We grab input ID tokens, attention mask, and labels from this\n",
    "input_ids_test = encoded_data_test['input_ids'] #return each sentence as a #\n",
    "attention_masks_test = encoded_data_test['attention_mask'] #returns a pytorch tensor\n",
    "labels_test = torch.tensor(df_test.label.values)"
   ]
  },
  {
   "cell_type": "code",
   "execution_count": 42,
   "metadata": {
    "ExecuteTime": {
     "end_time": "2020-10-02T13:50:55.328164Z",
     "start_time": "2020-10-02T13:50:55.324947Z"
    }
   },
   "outputs": [],
   "source": [
    "# dataset and dataloader\n",
    "dataset_tst = TensorDataset(input_ids_test, attention_masks_test,labels_test)\n",
    "dataloader_tst = DataLoader(dataset_tst,batch_size=16)"
   ]
  },
  {
   "cell_type": "code",
   "execution_count": 43,
   "metadata": {
    "ExecuteTime": {
     "end_time": "2020-10-02T13:51:17.617806Z",
     "start_time": "2020-10-02T13:51:07.104384Z"
    }
   },
   "outputs": [
    {
     "data": {
      "application/vnd.jupyter.widget-view+json": {
       "model_id": "dfdefdd90f614bdd99420da3140cd005",
       "version_major": 2,
       "version_minor": 0
      },
      "text/plain": [
       "HBox(children=(FloatProgress(value=0.0, max=197.0), HTML(value='')))"
      ]
     },
     "metadata": {},
     "output_type": "display_data"
    },
    {
     "name": "stdout",
     "output_type": "stream",
     "text": [
      "\n"
     ]
    }
   ],
   "source": [
    "_, predictions, _true_vals = evaluate(dataloader_tst,model,device=device)"
   ]
  },
  {
   "cell_type": "code",
   "execution_count": 44,
   "metadata": {
    "ExecuteTime": {
     "end_time": "2020-10-02T13:51:27.934844Z",
     "start_time": "2020-10-02T13:51:27.916844Z"
    }
   },
   "outputs": [
    {
     "name": "stdout",
     "output_type": "stream",
     "text": [
      "Class: anger\n",
      "Accuracy: 93.95\n",
      "Class: fear\n",
      "Accuracy: 90.35\n",
      "Class: joy\n",
      "Accuracy: 96.08\n",
      "Class: sadness\n",
      "Accuracy: 93.46\n"
     ]
    }
   ],
   "source": [
    "accuracy_per_class(predictions, _true_vals,label_dict=label_dict)"
   ]
  },
  {
   "cell_type": "code",
   "execution_count": null,
   "metadata": {},
   "outputs": [],
   "source": []
  }
 ],
 "metadata": {
  "kernelspec": {
   "display_name": "Python 3",
   "language": "python",
   "name": "python3"
  },
  "language_info": {
   "codemirror_mode": {
    "name": "ipython",
    "version": 3
   },
   "file_extension": ".py",
   "mimetype": "text/x-python",
   "name": "python",
   "nbconvert_exporter": "python",
   "pygments_lexer": "ipython3",
   "version": "3.7.9"
  },
  "toc": {
   "base_numbering": 1,
   "nav_menu": {},
   "number_sections": true,
   "sideBar": true,
   "skip_h1_title": false,
   "title_cell": "Table of Contents",
   "title_sidebar": "Contents",
   "toc_cell": false,
   "toc_position": {
    "height": "calc(100% - 180px)",
    "left": "10px",
    "top": "150px",
    "width": "304.475px"
   },
   "toc_section_display": true,
   "toc_window_display": true
  }
 },
 "nbformat": 4,
 "nbformat_minor": 4
}

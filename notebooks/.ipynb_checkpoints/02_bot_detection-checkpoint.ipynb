{
 "cells": [
  {
   "cell_type": "markdown",
   "metadata": {},
   "source": [
    "<p style=\"text-align:center;font-size:200%;\"><b>BOT Detection on Twitter</b></p>\n",
    "<p style=\"text-align:center;font-size:150%;\"><b>fine-tuning BERT</b></p>"
   ]
  },
  {
   "cell_type": "markdown",
   "metadata": {},
   "source": [
    "# Requirement"
   ]
  },
  {
   "cell_type": "code",
   "execution_count": 1,
   "metadata": {
    "ExecuteTime": {
     "end_time": "2020-10-02T13:58:41.387002Z",
     "start_time": "2020-10-02T13:58:32.351402Z"
    }
   },
   "outputs": [],
   "source": [
    "import torch\n",
    "import pandas as pd\n",
    "from tqdm.notebook import tqdm \n",
    "import numpy as np\n",
    "import os\n",
    "from torch.utils.data import DataLoader, RandomSampler, SequentialSampler\n",
    "from transformers import BertForSequenceClassification\n",
    "from torch.utils.data import TensorDataset \n",
    "from torch.utils.data import DataLoader, RandomSampler, SequentialSampler\n",
    "from sklearn.model_selection import train_test_split\n",
    "from transformers import AdamW, get_linear_schedule_with_warmup\n",
    "import random\n",
    "import matplotlib.pyplot as plt\n",
    "# loading custome packages\n",
    "os.chdir('..')\n",
    "from twitterED.utilities.utils import get_length , tokenizer, encoding_data, text_cleaning\n",
    "from twitterED.network.model import BERT\n",
    "from twitterED.utilities.metrics import f1_score_func, accuracy_per_class,evaluate"
   ]
  },
  {
   "cell_type": "markdown",
   "metadata": {},
   "source": [
    "# Data"
   ]
  },
  {
   "cell_type": "markdown",
   "metadata": {},
   "source": [
    "## preparation"
   ]
  },
  {
   "cell_type": "code",
   "execution_count": 2,
   "metadata": {
    "ExecuteTime": {
     "end_time": "2020-10-02T13:58:41.448643Z",
     "start_time": "2020-10-02T13:58:41.388608Z"
    }
   },
   "outputs": [
    {
     "data": {
      "text/html": [
       "<div>\n",
       "<style scoped>\n",
       "    .dataframe tbody tr th:only-of-type {\n",
       "        vertical-align: middle;\n",
       "    }\n",
       "\n",
       "    .dataframe tbody tr th {\n",
       "        vertical-align: top;\n",
       "    }\n",
       "\n",
       "    .dataframe thead th {\n",
       "        text-align: right;\n",
       "    }\n",
       "</style>\n",
       "<table border=\"1\" class=\"dataframe\">\n",
       "  <thead>\n",
       "    <tr style=\"text-align: right;\">\n",
       "      <th></th>\n",
       "      <th>tweet</th>\n",
       "      <th>account_type</th>\n",
       "    </tr>\n",
       "  </thead>\n",
       "  <tbody>\n",
       "    <tr>\n",
       "      <th>0</th>\n",
       "      <td>UB40 - Red Red Wine</td>\n",
       "      <td>bot</td>\n",
       "    </tr>\n",
       "    <tr>\n",
       "      <th>1</th>\n",
       "      <td>@kartierbello Dawg I’m fucking sick of myself 😭</td>\n",
       "      <td>human</td>\n",
       "    </tr>\n",
       "    <tr>\n",
       "      <th>2</th>\n",
       "      <td>@Garratt_J Well spotted, they are actually the...</td>\n",
       "      <td>human</td>\n",
       "    </tr>\n",
       "    <tr>\n",
       "      <th>3</th>\n",
       "      <td>@r_j17 @BurnleyOfficial Pretty much like most ...</td>\n",
       "      <td>human</td>\n",
       "    </tr>\n",
       "    <tr>\n",
       "      <th>4</th>\n",
       "      <td>@Sidlotte1 The first few minutes are an eye op...</td>\n",
       "      <td>human</td>\n",
       "    </tr>\n",
       "  </tbody>\n",
       "</table>\n",
       "</div>"
      ],
      "text/plain": [
       "                                               tweet account_type\n",
       "0                                UB40 - Red Red Wine          bot\n",
       "1    @kartierbello Dawg I’m fucking sick of myself 😭        human\n",
       "2  @Garratt_J Well spotted, they are actually the...        human\n",
       "3  @r_j17 @BurnleyOfficial Pretty much like most ...        human\n",
       "4  @Sidlotte1 The first few minutes are an eye op...        human"
      ]
     },
     "execution_count": 2,
     "metadata": {},
     "output_type": "execute_result"
    }
   ],
   "source": [
    "# loading dataset\n",
    "df = pd.read_csv('./data/raw/tweet_df.csv',header=0)\n",
    "df = df[['tweet','account_type']] # selecting required columns\n",
    "df.head()"
   ]
  },
  {
   "cell_type": "code",
   "execution_count": 3,
   "metadata": {
    "ExecuteTime": {
     "end_time": "2020-10-02T13:58:41.559648Z",
     "start_time": "2020-10-02T13:58:41.450608Z"
    },
    "scrolled": true
   },
   "outputs": [
    {
     "data": {
      "image/png": "[encoded data removed]",
      "text/plain": [
       "<Figure size 432x288 with 1 Axes>"
      ]
     },
     "metadata": {
      "needs_background": "light"
     },
     "output_type": "display_data"
    }
   ],
   "source": [
    "# plotting count account type\n",
    "ax =df['account_type'].value_counts().plot.bar(x='lab', y='val', rot=0,color = list('rgbkymc'))"
   ]
  },
  {
   "cell_type": "code",
   "execution_count": 4,
   "metadata": {
    "ExecuteTime": {
     "end_time": "2020-10-02T13:58:41.731646Z",
     "start_time": "2020-10-02T13:58:41.560643Z"
    }
   },
   "outputs": [],
   "source": [
    "#cleaning text\n",
    "\n",
    "# fixing contarctions\n",
    "df['tweet']= df['tweet'].apply(text_cleaning.fix_contractions)\n",
    "\n",
    "# remove accent characters\n",
    "df['tweet']= df['tweet'].apply(text_cleaning.remove_accented_chars)\n",
    "\n",
    "# remove digits\n",
    "df['tweet']= df['tweet'].apply(text_cleaning.remove_digits)\n",
    "\n",
    "#remove excess withe spaces\n",
    "df['tweet']= df['tweet'].apply(text_cleaning.remove_excess_whitespace)\n",
    "\n",
    "# remove punctuations except ?!\n",
    "df['tweet']= df['tweet'].apply(text_cleaning.rm_punctuation1)\n",
    "\n",
    "# teurn to lower case\n",
    "df['tweet']= df['tweet'].apply(text_cleaning.lower)\n"
   ]
  },
  {
   "cell_type": "code",
   "execution_count": 5,
   "metadata": {
    "ExecuteTime": {
     "end_time": "2020-10-02T13:58:41.746633Z",
     "start_time": "2020-10-02T13:58:41.732679Z"
    }
   },
   "outputs": [
    {
     "data": {
      "text/plain": [
       "tweet           0\n",
       "account_type    0\n",
       "dtype: int64"
      ]
     },
     "execution_count": 5,
     "metadata": {},
     "output_type": "execute_result"
    }
   ],
   "source": [
    "# check whether cleaning data has left any null value\n",
    "df.isnull().sum()"
   ]
  },
  {
   "cell_type": "code",
   "execution_count": 6,
   "metadata": {
    "ExecuteTime": {
     "end_time": "2020-10-02T13:58:41.762641Z",
     "start_time": "2020-10-02T13:58:41.747646Z"
    }
   },
   "outputs": [
    {
     "data": {
      "text/html": [
       "<div>\n",
       "<style scoped>\n",
       "    .dataframe tbody tr th:only-of-type {\n",
       "        vertical-align: middle;\n",
       "    }\n",
       "\n",
       "    .dataframe tbody tr th {\n",
       "        vertical-align: top;\n",
       "    }\n",
       "\n",
       "    .dataframe thead th {\n",
       "        text-align: right;\n",
       "    }\n",
       "</style>\n",
       "<table border=\"1\" class=\"dataframe\">\n",
       "  <thead>\n",
       "    <tr style=\"text-align: right;\">\n",
       "      <th></th>\n",
       "      <th>tweet</th>\n",
       "      <th>account_type</th>\n",
       "    </tr>\n",
       "  </thead>\n",
       "  <tbody>\n",
       "    <tr>\n",
       "      <th>8250</th>\n",
       "      <td>the human league    keep feeling  fascination</td>\n",
       "      <td>bot</td>\n",
       "    </tr>\n",
       "    <tr>\n",
       "      <th>6881</th>\n",
       "      <td>david bowie   ashes to ashes</td>\n",
       "      <td>bot</td>\n",
       "    </tr>\n",
       "    <tr>\n",
       "      <th>2408</th>\n",
       "      <td>johnny  amp  denise   especially for you</td>\n",
       "      <td>bot</td>\n",
       "    </tr>\n",
       "    <tr>\n",
       "      <th>1806</th>\n",
       "      <td>produceremma you are so brave to speak out still</td>\n",
       "      <td>human</td>\n",
       "    </tr>\n",
       "    <tr>\n",
       "      <th>4382</th>\n",
       "      <td>westminsterwag this is getting ridiculous</td>\n",
       "      <td>human</td>\n",
       "    </tr>\n",
       "    <tr>\n",
       "      <th>356</th>\n",
       "      <td>fumefox says you as you post another picture ...</td>\n",
       "      <td>human</td>\n",
       "    </tr>\n",
       "    <tr>\n",
       "      <th>2512</th>\n",
       "      <td>borisjohnson  there is no suggestion the inci...</td>\n",
       "      <td>human</td>\n",
       "    </tr>\n",
       "    <tr>\n",
       "      <th>3286</th>\n",
       "      <td>now  coming face to face with that image would...</td>\n",
       "      <td>human</td>\n",
       "    </tr>\n",
       "    <tr>\n",
       "      <th>982</th>\n",
       "      <td>inveniet22  skynewsbreak  uklabour they are o...</td>\n",
       "      <td>human</td>\n",
       "    </tr>\n",
       "    <tr>\n",
       "      <th>3321</th>\n",
       "      <td>deebiesonline i have found these solutions wo...</td>\n",
       "      <td>bot</td>\n",
       "    </tr>\n",
       "  </tbody>\n",
       "</table>\n",
       "</div>"
      ],
      "text/plain": [
       "                                                  tweet account_type\n",
       "8250      the human league    keep feeling  fascination          bot\n",
       "6881                       david bowie   ashes to ashes          bot\n",
       "2408           johnny  amp  denise   especially for you          bot\n",
       "1806   produceremma you are so brave to speak out still        human\n",
       "4382         westminsterwag this is getting ridiculous         human\n",
       "356    fumefox says you as you post another picture ...        human\n",
       "2512   borisjohnson  there is no suggestion the inci...        human\n",
       "3286  now  coming face to face with that image would...        human\n",
       "982    inveniet22  skynewsbreak  uklabour they are o...        human\n",
       "3321   deebiesonline i have found these solutions wo...          bot"
      ]
     },
     "execution_count": 6,
     "metadata": {},
     "output_type": "execute_result"
    }
   ],
   "source": [
    "# sample of data after cleaning\n",
    "df.sample(10)"
   ]
  },
  {
   "cell_type": "code",
   "execution_count": 7,
   "metadata": {
    "ExecuteTime": {
     "end_time": "2020-10-02T13:58:41.778644Z",
     "start_time": "2020-10-02T13:58:41.763644Z"
    }
   },
   "outputs": [
    {
     "data": {
      "text/plain": [
       "{'bot': 0, 'human': 1}"
      ]
     },
     "execution_count": 7,
     "metadata": {},
     "output_type": "execute_result"
    }
   ],
   "source": [
    "# converting classes to integer\n",
    "possible_labels = df['account_type'].unique()\n",
    "\n",
    "label_dict = {}\n",
    "for index, possible_label in enumerate(possible_labels):\n",
    "    label_dict[possible_label] = index\n",
    "label_dict"
   ]
  },
  {
   "cell_type": "code",
   "execution_count": 8,
   "metadata": {
    "ExecuteTime": {
     "end_time": "2020-10-02T13:58:41.794634Z",
     "start_time": "2020-10-02T13:58:41.780608Z"
    },
    "scrolled": true
   },
   "outputs": [
    {
     "data": {
      "text/html": [
       "<div>\n",
       "<style scoped>\n",
       "    .dataframe tbody tr th:only-of-type {\n",
       "        vertical-align: middle;\n",
       "    }\n",
       "\n",
       "    .dataframe tbody tr th {\n",
       "        vertical-align: top;\n",
       "    }\n",
       "\n",
       "    .dataframe thead th {\n",
       "        text-align: right;\n",
       "    }\n",
       "</style>\n",
       "<table border=\"1\" class=\"dataframe\">\n",
       "  <thead>\n",
       "    <tr style=\"text-align: right;\">\n",
       "      <th></th>\n",
       "      <th>tweet</th>\n",
       "      <th>account_type</th>\n",
       "      <th>label</th>\n",
       "    </tr>\n",
       "  </thead>\n",
       "  <tbody>\n",
       "    <tr>\n",
       "      <th>0</th>\n",
       "      <td>ub40   red red wine</td>\n",
       "      <td>bot</td>\n",
       "      <td>0</td>\n",
       "    </tr>\n",
       "    <tr>\n",
       "      <th>1</th>\n",
       "      <td>kartierbello dawg i am fucking sick of myself</td>\n",
       "      <td>human</td>\n",
       "      <td>1</td>\n",
       "    </tr>\n",
       "    <tr>\n",
       "      <th>2</th>\n",
       "      <td>garratt_j well spotted  they are actually the...</td>\n",
       "      <td>human</td>\n",
       "      <td>1</td>\n",
       "    </tr>\n",
       "    <tr>\n",
       "      <th>3</th>\n",
       "      <td>r_j17  burnleyofficial pretty much like most ...</td>\n",
       "      <td>human</td>\n",
       "      <td>1</td>\n",
       "    </tr>\n",
       "    <tr>\n",
       "      <th>4</th>\n",
       "      <td>sidlotte1 the first few minutes are an eye op...</td>\n",
       "      <td>human</td>\n",
       "      <td>1</td>\n",
       "    </tr>\n",
       "  </tbody>\n",
       "</table>\n",
       "</div>"
      ],
      "text/plain": [
       "                                               tweet account_type  label\n",
       "0                                ub40   red red wine          bot      0\n",
       "1      kartierbello dawg i am fucking sick of myself        human      1\n",
       "2   garratt_j well spotted  they are actually the...        human      1\n",
       "3   r_j17  burnleyofficial pretty much like most ...        human      1\n",
       "4   sidlotte1 the first few minutes are an eye op...        human      1"
      ]
     },
     "execution_count": 8,
     "metadata": {},
     "output_type": "execute_result"
    }
   ],
   "source": [
    "#Adding a new column to our original data-frame, of numbers corresponding to each emotion label\n",
    "df['label'] = [label_dict[str_label] for str_label in df['account_type']]\n",
    "df.head()"
   ]
  },
  {
   "cell_type": "code",
   "execution_count": 9,
   "metadata": {
    "ExecuteTime": {
     "end_time": "2020-10-02T13:58:41.810643Z",
     "start_time": "2020-10-02T13:58:41.795643Z"
    }
   },
   "outputs": [
    {
     "data": {
      "text/plain": [
       "((8967, 3), (7173, 3), (1794, 3))"
      ]
     },
     "execution_count": 9,
     "metadata": {},
     "output_type": "execute_result"
    }
   ],
   "source": [
    "# splitting dataset into train,Validation and test\n",
    "split = .2 # rate to split data to test and train_validation\n",
    "test_idx = int(df.shape[0]-df.shape[0]*.2) # index for splitting\n",
    "df_tst = df.iloc[test_idx:,:] # test dataset\n",
    "df_trval = df.iloc[:test_idx,:] # train and validation dataset\n",
    "df.shape,df_trval.shape,df_tst.shape"
   ]
  },
  {
   "cell_type": "code",
   "execution_count": 10,
   "metadata": {
    "ExecuteTime": {
     "end_time": "2020-10-02T13:58:41.825650Z",
     "start_time": "2020-10-02T13:58:41.811608Z"
    }
   },
   "outputs": [],
   "source": [
    "## Splitting df_trval to train and vallidation sets\n",
    "x_train, x_val, y_train, y_val = train_test_split(\n",
    "    df_trval.index.values,\n",
    "    df_trval['label'],\n",
    "    test_size = 0.15, #let's do 85-15 train-validation split\n",
    "    random_state=17, #reproducible between my instance and whoever wants to reproduce\n",
    "    stratify= df_trval['label'].values\n",
    ")"
   ]
  },
  {
   "cell_type": "code",
   "execution_count": 11,
   "metadata": {
    "ExecuteTime": {
     "end_time": "2020-10-02T13:58:41.967651Z",
     "start_time": "2020-10-02T13:58:41.827608Z"
    }
   },
   "outputs": [
    {
     "name": "stderr",
     "output_type": "stream",
     "text": [
      "C:\\Users\\ehsan\\.conda\\envs\\emodetection\\lib\\site-packages\\ipykernel_launcher.py:2: SettingWithCopyWarning: \n",
      "A value is trying to be set on a copy of a slice from a DataFrame.\n",
      "Try using .loc[row_indexer,col_indexer] = value instead\n",
      "\n",
      "See the caveats in the documentation: https://pandas.pydata.org/pandas-docs/stable/user_guide/indexing.html#returning-a-view-versus-a-copy\n",
      "  \n",
      "C:\\Users\\ehsan\\.conda\\envs\\emodetection\\lib\\site-packages\\pandas\\core\\indexing.py:1765: SettingWithCopyWarning: \n",
      "A value is trying to be set on a copy of a slice from a DataFrame.\n",
      "Try using .loc[row_indexer,col_indexer] = value instead\n",
      "\n",
      "See the caveats in the documentation: https://pandas.pydata.org/pandas-docs/stable/user_guide/indexing.html#returning-a-view-versus-a-copy\n",
      "  isetter(loc, value)\n"
     ]
    },
    {
     "data": {
      "text/plain": [
       "<AxesSubplot:xlabel='label'>"
      ]
     },
     "execution_count": 11,
     "metadata": {},
     "output_type": "execute_result"
    },
    {
     "data": {
      "image/png": "[encoded data removed]",
      "text/plain": [
       "<Figure size 432x288 with 1 Axes>"
      ]
     },
     "metadata": {
      "needs_background": "light"
     },
     "output_type": "display_data"
    }
   ],
   "source": [
    "# adding a dummy column as data type\n",
    "df_trval['data_type'] = ['not_set']*df_trval.shape[0]\n",
    "df_trval.loc[x_train, 'data_type'] = 'train'\n",
    "df_trval.loc[x_val, 'data_type'] = 'val'\n",
    "df_g = df_trval.groupby(['label', 'data_type']).count()\n",
    "df_g.unstack().plot(kind='bar')"
   ]
  },
  {
   "cell_type": "markdown",
   "metadata": {},
   "source": [
    "## tokenasation using bert tokeniser"
   ]
  },
  {
   "cell_type": "code",
   "execution_count": 12,
   "metadata": {
    "ExecuteTime": {
     "end_time": "2020-10-02T13:58:44.139503Z",
     "start_time": "2020-10-02T13:58:41.968645Z"
    }
   },
   "outputs": [
    {
     "name": "stdout",
     "output_type": "stream",
     "text": [
      "maximum length of tweet:57\n"
     ]
    }
   ],
   "source": [
    "#getting the maximum lenth of tweets for padding tokens\n",
    "max_len = max(df_trval['tweet'].apply(get_length))\n",
    "print (f'maximum length of tweet:{max_len}')"
   ]
  },
  {
   "cell_type": "code",
   "execution_count": 13,
   "metadata": {
    "ExecuteTime": {
     "end_time": "2020-10-02T13:58:46.180409Z",
     "start_time": "2020-10-02T13:58:44.141321Z"
    }
   },
   "outputs": [
    {
     "name": "stderr",
     "output_type": "stream",
     "text": [
      "C:\\Users\\ehsan\\.conda\\envs\\emodetection\\lib\\site-packages\\transformers\\tokenization_utils_base.py:1770: FutureWarning: The `pad_to_max_length` argument is deprecated and will be removed in a future version, use `padding=True` or `padding='longest'` to pad to the longest sequence in the batch, or use `padding='max_length'` to pad to a max length. In this case, you can give a specific length with `max_length` (e.g. `max_length=45`) or leave max_length to None to pad to the maximal input size of the model (e.g. 512 for Bert).\n",
      "  FutureWarning,\n"
     ]
    }
   ],
   "source": [
    "# encoding data using bert tokeniser\n",
    "## encoding train data\n",
    "train_data = df_trval[df_trval['data_type']=='train'].tweet.values\n",
    "encoded_data_train = encoding_data(train_data, max_len = max_len)\n",
    "#encoding process above returns dictionaries. We grab input ID tokens, attention mask, and labels from this\n",
    "input_ids_train = encoded_data_train['input_ids'] #return each sentence as a #\n",
    "attention_masks_train = encoded_data_train['attention_mask'] #returns a pytorch tensor\n",
    "labels_train = torch.tensor(df_trval[df_trval.data_type=='train'].label.values)\n",
    "\n",
    "## encoding validation data\n",
    "val_data = df_trval[df_trval['data_type']=='val'].tweet.values\n",
    "encoded_data_val = encoding_data(val_data, max_len = max_len)\n",
    "input_ids_val = encoded_data_val['input_ids'] #return each sentence as a #\n",
    "attention_masks_val = encoded_data_val['attention_mask'] #returns a pytorch tensor\n",
    "labels_val = torch.tensor(df_trval[df_trval.data_type=='val'].label.values)"
   ]
  },
  {
   "cell_type": "code",
   "execution_count": 14,
   "metadata": {
    "ExecuteTime": {
     "end_time": "2020-10-02T13:58:46.195408Z",
     "start_time": "2020-10-02T13:58:46.181409Z"
    }
   },
   "outputs": [
    {
     "data": {
      "text/plain": [
       "(6097, 1076)"
      ]
     },
     "execution_count": 14,
     "metadata": {},
     "output_type": "execute_result"
    }
   ],
   "source": [
    "# using pytorch to bulid train and validation datasets\n",
    "dataset_train = TensorDataset(input_ids_train, attention_masks_train, labels_train)\n",
    "dataset_validation = TensorDataset(input_ids_val, attention_masks_val, labels_val)\n",
    "len(dataset_train),len(dataset_validation)"
   ]
  },
  {
   "cell_type": "markdown",
   "metadata": {},
   "source": [
    "# Training"
   ]
  },
  {
   "cell_type": "markdown",
   "metadata": {},
   "source": [
    "## loading model and setting requried parameters"
   ]
  },
  {
   "cell_type": "code",
   "execution_count": 15,
   "metadata": {
    "ExecuteTime": {
     "end_time": "2020-10-02T13:58:49.261028Z",
     "start_time": "2020-10-02T13:58:46.196409Z"
    }
   },
   "outputs": [
    {
     "name": "stderr",
     "output_type": "stream",
     "text": [
      "Some weights of the model checkpoint at bert-base-uncased were not used when initializing BertForSequenceClassification: ['cls.predictions.bias', 'cls.predictions.transform.dense.weight', 'cls.predictions.transform.dense.bias', 'cls.predictions.decoder.weight', 'cls.seq_relationship.weight', 'cls.seq_relationship.bias', 'cls.predictions.transform.LayerNorm.weight', 'cls.predictions.transform.LayerNorm.bias']\n",
      "- This IS expected if you are initializing BertForSequenceClassification from the checkpoint of a model trained on another task or with another architecture (e.g. initializing a BertForSequenceClassification model from a BertForPretraining model).\n",
      "- This IS NOT expected if you are initializing BertForSequenceClassification from the checkpoint of a model that you expect to be exactly identical (initializing a BertForSequenceClassification model from a BertForSequenceClassification model).\n",
      "Some weights of BertForSequenceClassification were not initialized from the model checkpoint at bert-base-uncased and are newly initialized: ['classifier.weight', 'classifier.bias']\n",
      "You should probably TRAIN this model on a down-stream task to be able to use it for predictions and inference.\n"
     ]
    }
   ],
   "source": [
    "# loading the pretrained BERT\n",
    "model = BERT(label_dict=label_dict)"
   ]
  },
  {
   "cell_type": "code",
   "execution_count": 16,
   "metadata": {
    "ExecuteTime": {
     "end_time": "2020-10-02T13:58:49.276031Z",
     "start_time": "2020-10-02T13:58:49.263027Z"
    }
   },
   "outputs": [
    {
     "name": "stdout",
     "output_type": "stream",
     "text": [
      "The BERT model has 201 different named parameters.\n",
      "\n",
      "==== Embedding Layer ====\n",
      "\n",
      "bert.embeddings.word_embeddings.weight                  (30522, 768)\n",
      "bert.embeddings.position_embeddings.weight                (512, 768)\n",
      "bert.embeddings.token_type_embeddings.weight                (2, 768)\n",
      "bert.embeddings.LayerNorm.weight                              (768,)\n",
      "bert.embeddings.LayerNorm.bias                                (768,)\n",
      "\n",
      "==== First Transformer ====\n",
      "\n",
      "bert.encoder.layer.0.attention.self.query.weight          (768, 768)\n",
      "bert.encoder.layer.0.attention.self.query.bias                (768,)\n",
      "bert.encoder.layer.0.attention.self.key.weight            (768, 768)\n",
      "bert.encoder.layer.0.attention.self.key.bias                  (768,)\n",
      "bert.encoder.layer.0.attention.self.value.weight          (768, 768)\n",
      "bert.encoder.layer.0.attention.self.value.bias                (768,)\n",
      "bert.encoder.layer.0.attention.output.dense.weight        (768, 768)\n",
      "bert.encoder.layer.0.attention.output.dense.bias              (768,)\n",
      "bert.encoder.layer.0.attention.output.LayerNorm.weight        (768,)\n",
      "bert.encoder.layer.0.attention.output.LayerNorm.bias          (768,)\n",
      "bert.encoder.layer.0.intermediate.dense.weight           (3072, 768)\n",
      "bert.encoder.layer.0.intermediate.dense.bias                 (3072,)\n",
      "bert.encoder.layer.0.output.dense.weight                 (768, 3072)\n",
      "bert.encoder.layer.0.output.dense.bias                        (768,)\n",
      "bert.encoder.layer.0.output.LayerNorm.weight                  (768,)\n",
      "bert.encoder.layer.0.output.LayerNorm.bias                    (768,)\n",
      "\n",
      "==== Output Layer ====\n",
      "\n",
      "bert.pooler.dense.weight                                  (768, 768)\n",
      "bert.pooler.dense.bias                                        (768,)\n",
      "classifier.weight                                           (2, 768)\n",
      "classifier.bias                                                 (2,)\n"
     ]
    }
   ],
   "source": [
    "# print the loded model\n",
    "params = list(model.named_parameters())\n",
    "# Get all of the model's parameters as a list of tuples.\n",
    "params = list(model.named_parameters())\n",
    "print('The BERT model has {:} different named parameters.\\n'.format(len(params)))\n",
    "print('==== Embedding Layer ====\\n')\n",
    "for p in params[0:5]:\n",
    "    print(\"{:<55} {:>12}\".format(p[0], str(tuple(p[1].size()))))\n",
    "print('\\n==== First Transformer ====\\n')\n",
    "for p in params[5:21]:\n",
    "    print(\"{:<55} {:>12}\".format(p[0], str(tuple(p[1].size()))))\n",
    "print('\\n==== Output Layer ====\\n')\n",
    "for p in params[-4:]:\n",
    "    print(\"{:<55} {:>12}\".format(p[0], str(tuple(p[1].size()))))"
   ]
  },
  {
   "cell_type": "code",
   "execution_count": 17,
   "metadata": {
    "ExecuteTime": {
     "end_time": "2020-10-02T13:58:49.292028Z",
     "start_time": "2020-10-02T13:58:49.279028Z"
    }
   },
   "outputs": [],
   "source": [
    "# building data loaders\n",
    "batch_size = 16\n",
    "\n",
    "dataloader_train = DataLoader(\n",
    "    dataset_train,\n",
    "    sampler=RandomSampler(dataset_train), #randomise dataset during training\n",
    "    batch_size=batch_size\n",
    ")\n",
    "\n",
    "#batch size of 32 fine because not computationally exhaustive to validate. No backprop for e.g.\n",
    "dataloader_val = DataLoader(\n",
    "    dataset_validation,\n",
    "    sampler=RandomSampler(dataset_validation), #randomise dataset during training\n",
    "    batch_size=batch_size\n",
    ")"
   ]
  },
  {
   "cell_type": "code",
   "execution_count": 18,
   "metadata": {
    "ExecuteTime": {
     "end_time": "2020-10-02T13:58:49.308057Z",
     "start_time": "2020-10-02T13:58:49.295047Z"
    }
   },
   "outputs": [],
   "source": [
    "# optimiser and other parameters\n",
    "optimizer = AdamW(\n",
    "    model.parameters(),\n",
    "    lr=1e-5, #2e-5 > 5e-5: A HYPERPARAMETER\n",
    "    eps=1e-8\n",
    ")\n",
    "\n",
    "#controls learning rate\n",
    "epochs=5 \n",
    "\n",
    "scheduler = get_linear_schedule_with_warmup(\n",
    "    optimizer,\n",
    "    num_warmup_steps=0,\n",
    "    num_training_steps=len(dataloader_train) * epochs\n",
    ")"
   ]
  },
  {
   "cell_type": "markdown",
   "metadata": {},
   "source": [
    "## training"
   ]
  },
  {
   "cell_type": "code",
   "execution_count": 19,
   "metadata": {
    "ExecuteTime": {
     "end_time": "2020-10-02T13:58:49.324062Z",
     "start_time": "2020-10-02T13:58:49.310030Z"
    }
   },
   "outputs": [],
   "source": [
    "# feeding cuda randomly\n",
    "seed_val = 17\n",
    "random.seed(seed_val)\n",
    "np.random.seed(seed_val)\n",
    "torch.manual_seed(seed_val)\n",
    "torch.cuda.manual_seed_all(seed_val) #useful for using a GPU"
   ]
  },
  {
   "cell_type": "code",
   "execution_count": 20,
   "metadata": {
    "ExecuteTime": {
     "end_time": "2020-10-02T13:58:50.863087Z",
     "start_time": "2020-10-02T13:58:49.327032Z"
    }
   },
   "outputs": [
    {
     "name": "stdout",
     "output_type": "stream",
     "text": [
      "cuda\n"
     ]
    }
   ],
   "source": [
    "#to check GPU vs CPU\n",
    "device = torch.device('cuda' if torch.cuda.is_available() else 'cpu')\n",
    "model.to(device)\n",
    "\n",
    "print(device)"
   ]
  },
  {
   "cell_type": "code",
   "execution_count": 21,
   "metadata": {
    "ExecuteTime": {
     "end_time": "2020-10-02T14:06:25.929168Z",
     "start_time": "2020-10-02T13:58:50.868084Z"
    }
   },
   "outputs": [
    {
     "data": {
      "application/vnd.jupyter.widget-view+json": {
       "model_id": "9ce17416192144eabc22812b440e474f",
       "version_major": 2,
       "version_minor": 0
      },
      "text/plain": [
       "HBox(children=(FloatProgress(value=0.0, max=5.0), HTML(value='')))"
      ]
     },
     "metadata": {},
     "output_type": "display_data"
    },
    {
     "data": {
      "application/vnd.jupyter.widget-view+json": {
       "model_id": "",
       "version_major": 2,
       "version_minor": 0
      },
      "text/plain": [
       "HBox(children=(FloatProgress(value=0.0, description='./wieght/botdtc/Epoch 1', max=382.0, style=ProgressStyle(…"
      ]
     },
     "metadata": {},
     "output_type": "display_data"
    },
    {
     "name": "stdout",
     "output_type": "stream",
     "text": [
      "\r\n",
      "Epoch 1\n",
      "\r",
      "Training loss: 0.15106249350020712\n"
     ]
    },
    {
     "data": {
      "application/vnd.jupyter.widget-view+json": {
       "model_id": "8604d724ef234effaccf4bfdec3b0c94",
       "version_major": 2,
       "version_minor": 0
      },
      "text/plain": [
       "HBox(children=(FloatProgress(value=0.0, max=68.0), HTML(value='')))"
      ]
     },
     "metadata": {},
     "output_type": "display_data"
    },
    {
     "name": "stdout",
     "output_type": "stream",
     "text": [
      "\n",
      "\r",
      "Validation loss: 0.07262413558269412\n"
     ]
    },
    {
     "data": {
      "application/vnd.jupyter.widget-view+json": {
       "model_id": "",
       "version_major": 2,
       "version_minor": 0
      },
      "text/plain": [
       "HBox(children=(FloatProgress(value=0.0, description='./wieght/botdtc/Epoch 2', max=382.0, style=ProgressStyle(…"
      ]
     },
     "metadata": {},
     "output_type": "display_data"
    },
    {
     "name": "stdout",
     "output_type": "stream",
     "text": [
      "\r\n",
      "Epoch 2\n",
      "\r",
      "Training loss: 0.0365136335417994\n"
     ]
    },
    {
     "data": {
      "application/vnd.jupyter.widget-view+json": {
       "model_id": "b18410912dcf40e48fa63b5b85b1649c",
       "version_major": 2,
       "version_minor": 0
      },
      "text/plain": [
       "HBox(children=(FloatProgress(value=0.0, max=68.0), HTML(value='')))"
      ]
     },
     "metadata": {},
     "output_type": "display_data"
    },
    {
     "name": "stdout",
     "output_type": "stream",
     "text": [
      "\n",
      "\r",
      "Validation loss: 0.04808852534830187\n"
     ]
    },
    {
     "data": {
      "application/vnd.jupyter.widget-view+json": {
       "model_id": "",
       "version_major": 2,
       "version_minor": 0
      },
      "text/plain": [
       "HBox(children=(FloatProgress(value=0.0, description='./wieght/botdtc/Epoch 3', max=382.0, style=ProgressStyle(…"
      ]
     },
     "metadata": {},
     "output_type": "display_data"
    },
    {
     "name": "stdout",
     "output_type": "stream",
     "text": [
      "\r\n",
      "Epoch 3\n",
      "\r",
      "Training loss: 0.019068721616235365\n"
     ]
    },
    {
     "data": {
      "application/vnd.jupyter.widget-view+json": {
       "model_id": "36a74af6c9f34b76aab80b54ccfbc01a",
       "version_major": 2,
       "version_minor": 0
      },
      "text/plain": [
       "HBox(children=(FloatProgress(value=0.0, max=68.0), HTML(value='')))"
      ]
     },
     "metadata": {},
     "output_type": "display_data"
    },
    {
     "name": "stdout",
     "output_type": "stream",
     "text": [
      "\n",
      "\r",
      "Validation loss: 0.057632814659240576\n"
     ]
    },
    {
     "data": {
      "application/vnd.jupyter.widget-view+json": {
       "model_id": "",
       "version_major": 2,
       "version_minor": 0
      },
      "text/plain": [
       "HBox(children=(FloatProgress(value=0.0, description='./wieght/botdtc/Epoch 4', max=382.0, style=ProgressStyle(…"
      ]
     },
     "metadata": {},
     "output_type": "display_data"
    },
    {
     "name": "stdout",
     "output_type": "stream",
     "text": [
      "\r\n",
      "Epoch 4\n",
      "\r",
      "Training loss: 0.007038258912042698\n"
     ]
    },
    {
     "data": {
      "application/vnd.jupyter.widget-view+json": {
       "model_id": "c5bf6e319c894c45a6e9cea32255366d",
       "version_major": 2,
       "version_minor": 0
      },
      "text/plain": [
       "HBox(children=(FloatProgress(value=0.0, max=68.0), HTML(value='')))"
      ]
     },
     "metadata": {},
     "output_type": "display_data"
    },
    {
     "name": "stdout",
     "output_type": "stream",
     "text": [
      "\n",
      "\r",
      "Validation loss: 0.05781034690410118\n"
     ]
    },
    {
     "data": {
      "application/vnd.jupyter.widget-view+json": {
       "model_id": "",
       "version_major": 2,
       "version_minor": 0
      },
      "text/plain": [
       "HBox(children=(FloatProgress(value=0.0, description='./wieght/botdtc/Epoch 5', max=382.0, style=ProgressStyle(…"
      ]
     },
     "metadata": {},
     "output_type": "display_data"
    },
    {
     "name": "stdout",
     "output_type": "stream",
     "text": [
      "\r\n",
      "Epoch 5\n",
      "\r",
      "Training loss: 0.005806272919495476\n"
     ]
    },
    {
     "data": {
      "application/vnd.jupyter.widget-view+json": {
       "model_id": "dac4aeb87ec740cea639e306ec4db8e3",
       "version_major": 2,
       "version_minor": 0
      },
      "text/plain": [
       "HBox(children=(FloatProgress(value=0.0, max=68.0), HTML(value='')))"
      ]
     },
     "metadata": {},
     "output_type": "display_data"
    },
    {
     "name": "stdout",
     "output_type": "stream",
     "text": [
      "\n",
      "\r",
      "Validation loss: 0.06255484623440732\n",
      "\n"
     ]
    }
   ],
   "source": [
    "Ltr_hist =[]\n",
    "Lval_hist = []\n",
    "for epoch in tqdm(range(1, epochs+1)):\n",
    "    model.train()\n",
    "    \n",
    "    #set to 0 initially, then add each batch's loss iteratively\n",
    "    loss_train_total = 0\n",
    "    \n",
    "    progress_bar = tqdm(dataloader_train, \n",
    "                        desc='./wieght/botdtc/Epoch {:1d}'.format(epoch),\n",
    "                        leave=False, #let it overwrite after each epoch\n",
    "                        disable=False, \n",
    "                       )\n",
    "    for batch in progress_bar:\n",
    "        \n",
    "        #first batch = set gradients to 0\n",
    "        model.zero_grad()\n",
    "        \n",
    "        #dataloader has 3 variables. so it's going to be a tuple of 3 items. making sure each item is on correct device\n",
    "        batch = tuple(b.to(device) for b in batch)\n",
    "        \n",
    "        inputs = {\n",
    "            'input_ids' : batch[0],\n",
    "            'attention_mask' : batch[1],\n",
    "            'labels' : batch[2]\n",
    "        }\n",
    "        \n",
    "        #unpacks dictionary straight into model\n",
    "        outputs = model(**inputs)\n",
    "        \n",
    "        #bert model returns loss and logits\n",
    "        loss = outputs[0]\n",
    "        loss_train_total += loss.item() #add up loss\n",
    "        loss.backward() #backpropagate\n",
    "        \n",
    "        #all weights will be a norm of 1 (normalised weights)\n",
    "        torch.nn.utils.clip_grad_norm_(model.parameters(), 1.0)\n",
    "        \n",
    "        optimizer.step()\n",
    "        scheduler.step()\n",
    "        \n",
    "        #update progress bar to display loss per batch\n",
    "        progress_bar.set_postfix({'training_loss' : '{:3f}'.format(loss.item()/len(batch))})\n",
    "        \n",
    "    #outside the batch loop and inside the epoch loop, so per epoch\n",
    "    #save model checkpoint and print progress\n",
    "    torch.save(model.state_dict(), f'./wieght/botdtc/Epoch-{epoch}.model')\n",
    "    \n",
    "    tqdm.write(f'\\nEpoch {epoch}')\n",
    "    \n",
    "    loss_train_avg = loss_train_total/len(dataloader_train)\n",
    "    Ltr_hist.append(loss_train_avg)\n",
    "    #loss per epoch:\n",
    "    tqdm.write(f'Training loss: {loss_train_avg}')\n",
    "    \n",
    "    #to detect overtraining - happens when training loss goes down and val loss goes up. Starts to\n",
    "    #train perfectly on our data such that its no longer generalisable\n",
    "    #does exactly \n",
    "    val_loss, predictions, true_vals = evaluate(dataloader_val,model = model, device=device) #predictions are the logits\n",
    "    Lval_hist.append(val_loss)\n",
    "    \n",
    "\n",
    "\n",
    "    #_labels, _preds = f1_score_func(predictions, true_vals)\n",
    "    tqdm.write(f'Validation loss: {val_loss}')\n",
    "    #tqdm.write(f'F1 Score (weighted): {val_f1}')\n",
    "    _labels, _preds = f1_score_func(predictions, true_vals)"
   ]
  },
  {
   "cell_type": "code",
   "execution_count": 27,
   "metadata": {
    "ExecuteTime": {
     "end_time": "2020-10-02T14:06:33.215500Z",
     "start_time": "2020-10-02T14:06:33.068506Z"
    }
   },
   "outputs": [
    {
     "data": {
      "text/plain": [
       "<matplotlib.legend.Legend at 0x1b88f9d7d88>"
      ]
     },
     "execution_count": 27,
     "metadata": {},
     "output_type": "execute_result"
    },
    {
     "data": {
      "image/png": "[encoded data removed]",
      "text/plain": [
       "<Figure size 1152x288 with 1 Axes>"
      ]
     },
     "metadata": {
      "needs_background": "light"
     },
     "output_type": "display_data"
    }
   ],
   "source": [
    "# plotting the training performance\n",
    "%matplotlib inline\n",
    "_,ax = plt.subplots(1,1,figsize=(16,4))\n",
    "ax.plot(1+np.arange(len(Ltr_hist)),Ltr_hist)\n",
    "ax.plot(1+np.arange(len(Lval_hist)),Lval_hist)\n",
    "ax.grid('on')\n",
    "ax.set_xlim(left=1, right=len(Ltr_hist))\n",
    "ax.set_ylim(bottom =0, top = max(Ltr_hist))\n",
    "ax.legend(['training loss', 'validation loss'])"
   ]
  },
  {
   "cell_type": "markdown",
   "metadata": {},
   "source": [
    "## evaluation"
   ]
  },
  {
   "cell_type": "code",
   "execution_count": 28,
   "metadata": {
    "ExecuteTime": {
     "end_time": "2020-10-02T14:06:59.238491Z",
     "start_time": "2020-10-02T14:06:59.226460Z"
    }
   },
   "outputs": [],
   "source": [
    "model.to(device)\n",
    "pass #so we dont have all that text printed out"
   ]
  },
  {
   "cell_type": "code",
   "execution_count": 29,
   "metadata": {
    "ExecuteTime": {
     "end_time": "2020-10-02T14:07:01.613449Z",
     "start_time": "2020-10-02T14:07:01.243135Z"
    }
   },
   "outputs": [
    {
     "data": {
      "text/plain": [
       "<All keys matched successfully>"
      ]
     },
     "execution_count": 29,
     "metadata": {},
     "output_type": "execute_result"
    }
   ],
   "source": [
    "#trained model on GPU, putting it back to CPU\n",
    "model.load_state_dict(\n",
    "    torch.load('./wieght/botdtc/Epoch-2.model',\n",
    "              map_location=torch.device('cpu')))"
   ]
  },
  {
   "cell_type": "code",
   "execution_count": 30,
   "metadata": {
    "ExecuteTime": {
     "end_time": "2020-10-02T14:07:07.354884Z",
     "start_time": "2020-10-02T14:07:02.788328Z"
    }
   },
   "outputs": [
    {
     "data": {
      "application/vnd.jupyter.widget-view+json": {
       "model_id": "46589287c914494682c493256d39d439",
       "version_major": 2,
       "version_minor": 0
      },
      "text/plain": [
       "HBox(children=(FloatProgress(value=0.0, max=68.0), HTML(value='')))"
      ]
     },
     "metadata": {},
     "output_type": "display_data"
    },
    {
     "name": "stdout",
     "output_type": "stream",
     "text": [
      "\n"
     ]
    }
   ],
   "source": [
    "#evaluating model, not caring about loss anymore which is 1st argument\n",
    "_, predictions, _true_vals = evaluate(dataloader_val,model,device=device)"
   ]
  },
  {
   "cell_type": "code",
   "execution_count": 31,
   "metadata": {
    "ExecuteTime": {
     "end_time": "2020-10-02T14:07:08.827361Z",
     "start_time": "2020-10-02T14:07:08.811199Z"
    }
   },
   "outputs": [
    {
     "name": "stdout",
     "output_type": "stream",
     "text": [
      "Class: bot\n",
      "Accuracy: 99.45\n",
      "Class: human\n",
      "Accuracy: 99.01\n"
     ]
    }
   ],
   "source": [
    "# calculating accuracy of the model\n",
    "accuracy_per_class(predictions, _true_vals,label_dict=label_dict)"
   ]
  },
  {
   "cell_type": "markdown",
   "metadata": {},
   "source": [
    "## Test model "
   ]
  },
  {
   "cell_type": "code",
   "execution_count": 32,
   "metadata": {
    "ExecuteTime": {
     "end_time": "2020-10-02T14:07:13.331752Z",
     "start_time": "2020-10-02T14:07:13.240742Z"
    }
   },
   "outputs": [
    {
     "data": {
      "image/png": "[encoded data removed]",
      "text/plain": [
       "<Figure size 432x288 with 1 Axes>"
      ]
     },
     "metadata": {
      "needs_background": "light"
     },
     "output_type": "display_data"
    }
   ],
   "source": [
    "# plotting the cont of account type in test dataset\n",
    "ax =df_tst['account_type'].value_counts().plot.bar(x='lab', y='val', rot=0,color = list('rgbkymc'))"
   ]
  },
  {
   "cell_type": "code",
   "execution_count": 34,
   "metadata": {
    "ExecuteTime": {
     "end_time": "2020-10-02T14:07:31.197750Z",
     "start_time": "2020-10-02T14:07:30.649763Z"
    }
   },
   "outputs": [
    {
     "name": "stdout",
     "output_type": "stream",
     "text": [
      "maximum length of tweet:53\n"
     ]
    }
   ],
   "source": [
    "# calculating maximum length of tweets for padding\n",
    "max_len = max(df_tst['tweet'].apply(get_length))\n",
    "print (f'maximum length of tweet:{max_len}')"
   ]
  },
  {
   "cell_type": "code",
   "execution_count": 35,
   "metadata": {
    "ExecuteTime": {
     "end_time": "2020-10-02T14:07:33.192821Z",
     "start_time": "2020-10-02T14:07:32.665983Z"
    }
   },
   "outputs": [
    {
     "name": "stderr",
     "output_type": "stream",
     "text": [
      "C:\\Users\\ehsan\\.conda\\envs\\emodetection\\lib\\site-packages\\transformers\\tokenization_utils_base.py:1770: FutureWarning: The `pad_to_max_length` argument is deprecated and will be removed in a future version, use `padding=True` or `padding='longest'` to pad to the longest sequence in the batch, or use `padding='max_length'` to pad to a max length. In this case, you can give a specific length with `max_length` (e.g. `max_length=45`) or leave max_length to None to pad to the maximal input size of the model (e.g. 512 for Bert).\n",
      "  FutureWarning,\n"
     ]
    }
   ],
   "source": [
    "# tokenising data\n",
    "test_data = df_tst.tweet.values\n",
    "encoded_data_test = encoding_data(test_data, max_len = max_len)\n",
    "#encoding process above returns dictionaries. We grab input ID tokens, attention mask, and labels from this\n",
    "input_ids_test = encoded_data_test['input_ids'] #return each sentence as a #\n",
    "attention_masks_test = encoded_data_test['attention_mask'] #returns a pytorch tensor\n",
    "labels_test = torch.tensor(df_tst.label.values)"
   ]
  },
  {
   "cell_type": "code",
   "execution_count": 36,
   "metadata": {
    "ExecuteTime": {
     "end_time": "2020-10-02T14:07:33.895903Z",
     "start_time": "2020-10-02T14:07:33.882762Z"
    }
   },
   "outputs": [],
   "source": [
    "# dataset and dataloader\n",
    "dataset_tst = TensorDataset(input_ids_test, attention_masks_test,labels_test)\n",
    "dataloader_tst = DataLoader(dataset_tst,batch_size=16)"
   ]
  },
  {
   "cell_type": "code",
   "execution_count": 37,
   "metadata": {
    "ExecuteTime": {
     "end_time": "2020-10-02T14:07:41.851886Z",
     "start_time": "2020-10-02T14:07:34.473160Z"
    }
   },
   "outputs": [
    {
     "data": {
      "application/vnd.jupyter.widget-view+json": {
       "model_id": "1dc72efd45f5400eb61a65ba5aa54750",
       "version_major": 2,
       "version_minor": 0
      },
      "text/plain": [
       "HBox(children=(FloatProgress(value=0.0, max=113.0), HTML(value='')))"
      ]
     },
     "metadata": {},
     "output_type": "display_data"
    },
    {
     "name": "stdout",
     "output_type": "stream",
     "text": [
      "\n"
     ]
    }
   ],
   "source": [
    "_, predictions, _true_vals = evaluate(dataloader_tst,model,device=device)"
   ]
  },
  {
   "cell_type": "code",
   "execution_count": 38,
   "metadata": {
    "ExecuteTime": {
     "end_time": "2020-10-02T14:07:42.556533Z",
     "start_time": "2020-10-02T14:07:42.538975Z"
    }
   },
   "outputs": [
    {
     "name": "stdout",
     "output_type": "stream",
     "text": [
      "Class: bot\n",
      "Accuracy: 98.97\n",
      "Class: human\n",
      "Accuracy: 98.30\n"
     ]
    }
   ],
   "source": [
    "accuracy_per_class(predictions, _true_vals,label_dict=label_dict)"
   ]
  }
 ],
 "metadata": {
  "kernelspec": {
   "display_name": "Python 3",
   "language": "python",
   "name": "python3"
  },
  "language_info": {
   "codemirror_mode": {
    "name": "ipython",
    "version": 3
   },
   "file_extension": ".py",
   "mimetype": "text/x-python",
   "name": "python",
   "nbconvert_exporter": "python",
   "pygments_lexer": "ipython3",
   "version": "3.7.9"
  },
  "toc": {
   "base_numbering": 1,
   "nav_menu": {},
   "number_sections": true,
   "sideBar": true,
   "skip_h1_title": false,
   "title_cell": "Table of Contents",
   "title_sidebar": "Contents",
   "toc_cell": false,
   "toc_position": {
    "height": "calc(100% - 180px)",
    "left": "10px",
    "top": "150px",
    "width": "353.475px"
   },
   "toc_section_display": true,
   "toc_window_display": true
  }
 },
 "nbformat": 4,
 "nbformat_minor": 4
}

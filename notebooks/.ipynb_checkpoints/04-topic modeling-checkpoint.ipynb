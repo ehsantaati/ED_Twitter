{
 "cells": [
  {
   "cell_type": "code",
   "execution_count": 8,
   "metadata": {
    "ExecuteTime": {
     "end_time": "2020-10-06T08:00:52.349102Z",
     "start_time": "2020-10-06T08:00:52.256810Z"
    }
   },
   "outputs": [],
   "source": [
    "import pandas as pd\n",
    "import os\n",
    "os.chdir('..')\n",
    "from twitterED.utilities.utils import text_cleaning\n",
    "# import string\n",
    "# import unicodedata\n",
    "# import re\n",
    "from wordcloud import WordCloud\n",
    "# import seaborn as sns\n",
    "# from pylab import rcParams\n",
    "# import matplotlib.pyplot as plt\n",
    "# from matplotlib.ticker import MaxNLocator\n",
    "# from matplotlib import rc\n",
    "# from tqdm.notebook import tqdm,trange\n",
    "\n"
   ]
  },
  {
   "cell_type": "markdown",
   "metadata": {},
   "source": [
    "# Data"
   ]
  },
  {
   "cell_type": "markdown",
   "metadata": {},
   "source": [
    "## Reading Data"
   ]
  },
  {
   "cell_type": "code",
   "execution_count": 2,
   "metadata": {
    "ExecuteTime": {
     "end_time": "2020-10-06T07:55:14.284090Z",
     "start_time": "2020-10-06T07:55:14.252909Z"
    }
   },
   "outputs": [
    {
     "data": {
      "text/html": [
       "<div>\n",
       "<style scoped>\n",
       "    .dataframe tbody tr th:only-of-type {\n",
       "        vertical-align: middle;\n",
       "    }\n",
       "\n",
       "    .dataframe tbody tr th {\n",
       "        vertical-align: top;\n",
       "    }\n",
       "\n",
       "    .dataframe thead th {\n",
       "        text-align: right;\n",
       "    }\n",
       "</style>\n",
       "<table border=\"1\" class=\"dataframe\">\n",
       "  <thead>\n",
       "    <tr style=\"text-align: right;\">\n",
       "      <th></th>\n",
       "      <th>Tweet</th>\n",
       "      <th>emotion</th>\n",
       "    </tr>\n",
       "  </thead>\n",
       "  <tbody>\n",
       "    <tr>\n",
       "      <th>0</th>\n",
       "      <td>Would you like to interest hundreds of premium...</td>\n",
       "      <td>fear</td>\n",
       "    </tr>\n",
       "    <tr>\n",
       "      <th>1</th>\n",
       "      <td>Antonio comes across as the most down to earth...</td>\n",
       "      <td>fear</td>\n",
       "    </tr>\n",
       "    <tr>\n",
       "      <th>2</th>\n",
       "      <td>I learned a lot about COVID. This is the schoo...</td>\n",
       "      <td>fear</td>\n",
       "    </tr>\n",
       "    <tr>\n",
       "      <th>3</th>\n",
       "      <td>Does Laurence Fox even have anything worth...</td>\n",
       "      <td>sadness</td>\n",
       "    </tr>\n",
       "    <tr>\n",
       "      <th>4</th>\n",
       "      <td>still thinking about that morph cut they used ...</td>\n",
       "      <td>fear</td>\n",
       "    </tr>\n",
       "  </tbody>\n",
       "</table>\n",
       "</div>"
      ],
      "text/plain": [
       "                                               Tweet  emotion\n",
       "0  Would you like to interest hundreds of premium...     fear\n",
       "1  Antonio comes across as the most down to earth...     fear\n",
       "2  I learned a lot about COVID. This is the schoo...     fear\n",
       "3      Does Laurence Fox even have anything worth...  sadness\n",
       "4  still thinking about that morph cut they used ...     fear"
      ]
     },
     "execution_count": 2,
     "metadata": {},
     "output_type": "execute_result"
    }
   ],
   "source": [
    "dataset = pd.read_csv('data/processed/emotions/ED.csv',header=0)\n",
    "dataset.head()"
   ]
  },
  {
   "cell_type": "code",
   "execution_count": 3,
   "metadata": {
    "ExecuteTime": {
     "end_time": "2020-10-06T07:55:15.836946Z",
     "start_time": "2020-10-06T07:55:15.372385Z"
    }
   },
   "outputs": [
    {
     "data": {
      "image/png": "[encoded data removed]",
      "text/plain": [
       "<Figure size 432x288 with 1 Axes>"
      ]
     },
     "metadata": {
      "needs_background": "light"
     },
     "output_type": "display_data"
    }
   ],
   "source": [
    "# plotting count account type\n",
    "ax =dataset['emotion'].value_counts().plot.bar(x='lab', y='val', rot=0,color = list('rgbkymc'))"
   ]
  },
  {
   "cell_type": "markdown",
   "metadata": {},
   "source": [
    "## Cleaning"
   ]
  },
  {
   "cell_type": "code",
   "execution_count": 5,
   "metadata": {
    "ExecuteTime": {
     "end_time": "2020-10-06T07:58:27.704827Z",
     "start_time": "2020-10-06T07:58:27.587868Z"
    }
   },
   "outputs": [],
   "source": [
    "#cleaning text\n",
    "# fixing contarctions\n",
    "dataset['Tweet']= dataset['Tweet'].apply(text_cleaning.fix_contractions)\n",
    "# remove accent characters\n",
    "dataset['Tweet']= dataset['Tweet'].apply(text_cleaning.remove_accented_chars)\n",
    "# remove digits\n",
    "dataset['Tweet']= dataset['Tweet'].apply(text_cleaning.remove_digits)\n",
    "#remove excess withe spaces\n",
    "dataset['Tweet']= dataset['Tweet'].apply(text_cleaning.remove_excess_whitespace)\n",
    "# remove punctuations\n",
    "dataset['Tweet']= dataset['Tweet'].apply(text_cleaning.rm_punctuation1)\n",
    "# teurn to lower case\n",
    "dataset['Tweet']= dataset['Tweet'].apply(text_cleaning.lower)"
   ]
  },
  {
   "cell_type": "markdown",
   "metadata": {},
   "source": [
    "## emotion separation"
   ]
  },
  {
   "cell_type": "code",
   "execution_count": 11,
   "metadata": {
    "ExecuteTime": {
     "end_time": "2020-10-06T08:10:56.953485Z",
     "start_time": "2020-10-06T08:10:56.945484Z"
    }
   },
   "outputs": [],
   "source": [
    "# slicing dataset based on given emotion\n",
    "\n",
    "def emo_df(emotion,dataset,column='emotion'):\n",
    "    return dataset[dataset[column] == emotion].reset_index(drop=True)\n",
    "    "
   ]
  },
  {
   "cell_type": "code",
   "execution_count": 15,
   "metadata": {
    "ExecuteTime": {
     "end_time": "2020-10-06T08:12:28.053167Z",
     "start_time": "2020-10-06T08:12:28.041170Z"
    }
   },
   "outputs": [],
   "source": [
    "dataset = emo_df('fear',dataset)"
   ]
  },
  {
   "cell_type": "code",
   "execution_count": 16,
   "metadata": {
    "ExecuteTime": {
     "end_time": "2020-10-06T08:12:38.747657Z",
     "start_time": "2020-10-06T08:12:38.729664Z"
    }
   },
   "outputs": [],
   "source": [
    "# # selecting target emotion\n",
    "# dataset = sadness.copy()"
   ]
  },
  {
   "cell_type": "code",
   "execution_count": 17,
   "metadata": {
    "ExecuteTime": {
     "end_time": "2020-10-06T08:13:47.267325Z",
     "start_time": "2020-10-06T08:13:46.616459Z"
    }
   },
   "outputs": [
    {
     "name": "stdout",
     "output_type": "stream",
     "text": [
      "['would', 'you', 'like', 'to', 'interest', 'hundreds', 'of', 'premium', 'quality', 'qualified', 'prospects', 'to', 'consider', 'ones', 'business', 'every', 'day', 'in', 'this', 'case', 'social', 'media', 'is', 'perfect', 'facts', 'can', 'be', 'found', 'here', 'https']\n"
     ]
    }
   ],
   "source": [
    "# tokenising\n",
    "import gensim\n",
    "from gensim.utils import simple_preprocess\n",
    "\n",
    "def sent_to_words(sentences):\n",
    "    for sentence in sentences:\n",
    "        yield(gensim.utils.simple_preprocess(str(sentence)))  # deacc=True removes punctuations\n",
    "\n",
    "data = dataset.Tweet.values.tolist()\n",
    "data_words = list(sent_to_words(data))\n",
    "\n",
    "print(data_words[:1][0][:30])"
   ]
  },
  {
   "cell_type": "code",
   "execution_count": 18,
   "metadata": {
    "ExecuteTime": {
     "end_time": "2020-10-06T08:14:08.222363Z",
     "start_time": "2020-10-06T08:14:07.079609Z"
    }
   },
   "outputs": [],
   "source": [
    "# Build the bigram and trigram models\n",
    "bigram = gensim.models.Phrases(data_words, min_count=5, threshold=100) # higher threshold fewer phrases.\n",
    "trigram = gensim.models.Phrases(bigram[data_words], threshold=100)  \n",
    "\n",
    "# Faster way to get a sentence clubbed as a trigram/bigram\n",
    "bigram_mod = gensim.models.phrases.Phraser(bigram)\n",
    "trigram_mod = gensim.models.phrases.Phraser(trigram)"
   ]
  },
  {
   "cell_type": "code",
   "execution_count": 176,
   "metadata": {
    "ExecuteTime": {
     "end_time": "2020-10-05T12:01:24.038270Z",
     "start_time": "2020-10-05T12:01:24.023236Z"
    }
   },
   "outputs": [
    {
     "name": "stderr",
     "output_type": "stream",
     "text": [
      "[nltk_data] Downloading package stopwords to\n",
      "[nltk_data]     C:\\Users\\ehsan\\AppData\\Roaming\\nltk_data...\n",
      "[nltk_data]   Package stopwords is already up-to-date!\n"
     ]
    }
   ],
   "source": [
    "# NLTK Stop words\n",
    "import nltk\n",
    "nltk.download('stopwords')\n",
    "from nltk.corpus import stopwords\n",
    "\n",
    "\n",
    "stop_words = stopwords.words('english')\n",
    "\n",
    "stop_words.extend(['would', 'from', 'say','get','take','use','go','https'])\n"
   ]
  },
  {
   "cell_type": "code",
   "execution_count": 177,
   "metadata": {
    "ExecuteTime": {
     "end_time": "2020-10-05T12:01:24.209984Z",
     "start_time": "2020-10-05T12:01:24.200984Z"
    }
   },
   "outputs": [],
   "source": [
    "# Define functions for stopwords, bigrams, trigrams and lemmatization\n",
    "def remove_stopwords(texts):\n",
    "    return [[word for word in simple_preprocess(str(doc)) if word not in stop_words] for doc in texts]\n",
    "\n",
    "def make_bigrams(texts):\n",
    "    return [bigram_mod[doc] for doc in texts]\n",
    "\n",
    "def make_trigrams(texts):\n",
    "    return [trigram_mod[bigram_mod[doc]] for doc in texts]\n",
    "\n",
    "def lemmatization(texts, allowed_postags=['NOUN', 'ADJ', 'VERB', 'ADV']):\n",
    "    \"\"\"https://spacy.io/api/annotation\"\"\"\n",
    "    texts_out = []\n",
    "    for sent in texts:\n",
    "        doc = nlp(\" \".join(sent)) \n",
    "        texts_out.append([token.lemma_ for token in doc if token.pos_ in allowed_postags])\n",
    "    return texts_out"
   ]
  },
  {
   "cell_type": "code",
   "execution_count": 178,
   "metadata": {
    "ExecuteTime": {
     "end_time": "2020-10-05T12:01:25.608828Z",
     "start_time": "2020-10-05T12:01:24.376540Z"
    }
   },
   "outputs": [
    {
     "name": "stdout",
     "output_type": "stream",
     "text": [
      "['even', 'worth', 'take', 'libel', 'case', 'mean', 'hea', 'pretty', 'much', 'unemployed', 'unemployable', 'didnat', 'leave', 'much', 'dump', 'ass']\n"
     ]
    }
   ],
   "source": [
    "import spacy\n",
    "\n",
    "# Remove Stop Words\n",
    "data_words_nostops = remove_stopwords(data_words)\n",
    "\n",
    "# Form Bigrams\n",
    "data_words_bigrams = make_bigrams(data_words_nostops)\n",
    "\n",
    "# Initialize spacy 'en' model, keeping only tagger component (for efficiency)\n",
    "nlp = spacy.load(\"en_core_web_sm\", disable=['parser', 'ner'])\n",
    "\n",
    "# Do lemmatization keeping only noun, adj, vb, adv\n",
    "data_lemmatized = lemmatization(data_words_bigrams, allowed_postags=['NOUN', 'ADJ', 'VERB', 'ADV'])\n",
    "\n",
    "print(data_lemmatized[:1][0][:30])"
   ]
  },
  {
   "cell_type": "code",
   "execution_count": 179,
   "metadata": {
    "ExecuteTime": {
     "end_time": "2020-10-05T12:01:25.623848Z",
     "start_time": "2020-10-05T12:01:25.610827Z"
    }
   },
   "outputs": [
    {
     "name": "stdout",
     "output_type": "stream",
     "text": [
      "[(0, 1), (1, 1), (2, 1), (3, 1), (4, 1), (5, 1), (6, 1), (7, 1), (8, 1), (9, 2), (10, 1), (11, 1), (12, 1), (13, 1), (14, 1)]\n"
     ]
    }
   ],
   "source": [
    "import gensim.corpora as corpora\n",
    "import pickle\n",
    "# Create Dictionary\n",
    "id2word = corpora.Dictionary(data_lemmatized)\n",
    "\n",
    "# Create Corpus\n",
    "texts = data_lemmatized\n",
    "\n",
    "# Term Document Frequency\n",
    "corpus = [id2word.doc2bow(text) for text in texts]\n",
    "\n",
    "\n",
    "#saving dictionary\n",
    "pickle.dump(corpus, open('corpus.pkl', 'wb'))\n",
    "id2word.save('dictionary.gensim')\n",
    "\n",
    "# View\n",
    "print(corpus[:1][0][:30])"
   ]
  },
  {
   "cell_type": "code",
   "execution_count": 180,
   "metadata": {
    "ExecuteTime": {
     "end_time": "2020-10-05T12:01:25.639826Z",
     "start_time": "2020-10-05T12:01:25.625826Z"
    }
   },
   "outputs": [],
   "source": [
    "# # Build LDA model\n",
    "# lda_model = gensim.models.LdaMulticore(corpus=corpus,\n",
    "#                                        id2word=id2word,\n",
    "#                                        num_topics=10, \n",
    "#                                        random_state=100,\n",
    "#                                        chunksize=100,\n",
    "#                                        passes=10,\n",
    "#                                        per_word_topics=True)"
   ]
  },
  {
   "cell_type": "code",
   "execution_count": 181,
   "metadata": {
    "ExecuteTime": {
     "end_time": "2020-10-05T12:01:25.654824Z",
     "start_time": "2020-10-05T12:01:25.641828Z"
    }
   },
   "outputs": [],
   "source": [
    "# from pprint import pprint\n",
    "\n",
    "# # Print the Keyword in the 10 topics\n",
    "# pprint(lda_model.print_topics())\n",
    "# doc_lda = lda_model[corpus]"
   ]
  },
  {
   "cell_type": "code",
   "execution_count": 182,
   "metadata": {
    "ExecuteTime": {
     "end_time": "2020-10-05T12:01:25.670007Z",
     "start_time": "2020-10-05T12:01:25.656827Z"
    }
   },
   "outputs": [],
   "source": [
    "# from gensim.models import CoherenceModel\n",
    "\n",
    "# # Compute Coherence Score\n",
    "# coherence_model_lda = CoherenceModel(model=lda_model, texts=data_lemmatized, dictionary=id2word, coherence='c_v')\n",
    "# coherence_lda = coherence_model_lda.get_coherence()\n",
    "# print('Coherence Score: ', coherence_lda)"
   ]
  },
  {
   "cell_type": "code",
   "execution_count": 183,
   "metadata": {
    "ExecuteTime": {
     "end_time": "2020-10-05T12:01:25.686004Z",
     "start_time": "2020-10-05T12:01:25.671825Z"
    }
   },
   "outputs": [],
   "source": [
    "# # supporting function\n",
    "# def compute_coherence_values(corpus, dictionary, k, a, b):\n",
    "    \n",
    "#     lda_model = gensim.models.LdaMulticore(corpus=corpus,\n",
    "#                                            id2word=dictionary,\n",
    "#                                            num_topics=k, \n",
    "#                                            random_state=100,\n",
    "#                                            chunksize=100,\n",
    "#                                            passes=10,\n",
    "#                                            alpha=a,\n",
    "#                                            eta=b)\n",
    "    \n",
    "#     coherence_model_lda = CoherenceModel(model=lda_model, texts=data_lemmatized, dictionary=id2word, coherence='c_v')\n",
    "    \n",
    "#     return coherence_model_lda.get_coherence()"
   ]
  },
  {
   "cell_type": "code",
   "execution_count": 184,
   "metadata": {
    "ExecuteTime": {
     "end_time": "2020-10-05T12:01:25.702005Z",
     "start_time": "2020-10-05T12:01:25.686827Z"
    }
   },
   "outputs": [],
   "source": [
    "# import numpy as np\n",
    "# import tqdm\n",
    "\n",
    "# grid = {}\n",
    "# grid['Validation_Set'] = {}\n",
    "\n",
    "# # Topics range\n",
    "# min_topics = 2\n",
    "# max_topics = 11\n",
    "# step_size = 1\n",
    "# topics_range = range(min_topics, max_topics, step_size)\n",
    "\n",
    "# # Alpha parameter\n",
    "# alpha = list(np.arange(0.01, 1, 0.3))\n",
    "# alpha.append('symmetric')\n",
    "# alpha.append('asymmetric')\n",
    "\n",
    "# # Beta parameter\n",
    "# beta = list(np.arange(0.01, 1, 0.3))\n",
    "# beta.append('symmetric')\n",
    "\n",
    "# # Validation sets\n",
    "# num_of_docs = len(corpus)\n",
    "# corpus_sets = [# gensim.utils.ClippedCorpus(corpus, num_of_docs*0.25), \n",
    "#                # gensim.utils.ClippedCorpus(corpus, num_of_docs*0.5), \n",
    "#                # gensim.utils.ClippedCorpus(corpus, num_of_docs*0.75), \n",
    "#                corpus]\n",
    "\n",
    "# corpus_title = ['100% Corpus']\n",
    "\n",
    "# model_results = {'Validation_Set': [],\n",
    "#                  'Topics': [],\n",
    "#                  'Alpha': [],\n",
    "#                  'Beta': [],\n",
    "#                  'Coherence': []\n",
    "#                 }\n",
    "\n",
    "# # Can take a long time to run\n",
    "# if 1 == 1:\n",
    "#     pbar = tqdm.tqdm(total=(len(beta)*len(alpha)*len(topics_range)*len(corpus_title)))\n",
    "    \n",
    "#     # iterate through validation corpuses\n",
    "#     for i in range(len(corpus_sets)):\n",
    "#         # iterate through number of topics\n",
    "#         for k in topics_range:\n",
    "#             # iterate through alpha values\n",
    "#             for a in alpha:\n",
    "#                 # iterare through beta values\n",
    "#                 for b in beta:\n",
    "#                     # get the coherence score for the given parameters\n",
    "#                     cv = compute_coherence_values(corpus=corpus_sets[i], dictionary=id2word, \n",
    "#                                                   k=k, a=a, b=b)\n",
    "#                     # Save the model results\n",
    "#                     model_results['Validation_Set'].append(corpus_title[i])\n",
    "#                     model_results['Topics'].append(k)\n",
    "#                     model_results['Alpha'].append(a)\n",
    "#                     model_results['Beta'].append(b)\n",
    "#                     model_results['Coherence'].append(cv)\n",
    "                    \n",
    "#                     pbar.update(1)\n",
    "#     pd.DataFrame(model_results).to_csv('lda_tuning_results.csv', index=False)\n",
    "#     pbar.close()"
   ]
  },
  {
   "cell_type": "code",
   "execution_count": 185,
   "metadata": {
    "ExecuteTime": {
     "end_time": "2020-10-05T12:01:25.717162Z",
     "start_time": "2020-10-05T12:01:25.703828Z"
    }
   },
   "outputs": [],
   "source": [
    "# df =pd.read_csv('./lda_tuning_results.csv',header = 0)\n",
    "# df[df.Coherence == df.Coherence.max()]"
   ]
  },
  {
   "cell_type": "code",
   "execution_count": 186,
   "metadata": {
    "ExecuteTime": {
     "end_time": "2020-10-05T12:01:28.254051Z",
     "start_time": "2020-10-05T12:01:25.750854Z"
    }
   },
   "outputs": [],
   "source": [
    "lda_model = gensim.models.LdaMulticore(corpus=corpus,\n",
    "                                           id2word=id2word,\n",
    "                                           num_topics=5, \n",
    "                                           random_state=100,\n",
    "                                           chunksize=100,\n",
    "                                           passes=10,\n",
    "                                           alpha=0.01,\n",
    "                                           eta=0.9)\n",
    "lda_model.save('model5.gensim')"
   ]
  },
  {
   "cell_type": "code",
   "execution_count": 187,
   "metadata": {
    "ExecuteTime": {
     "end_time": "2020-10-05T12:01:28.269890Z",
     "start_time": "2020-10-05T12:01:28.255853Z"
    }
   },
   "outputs": [],
   "source": [
    "#lda_model = gensim.models.ldamodel.LdaModel(corpus=corpus, num_topics = 8, id2word=id2word, passes=10,alpha=0.01,eta=0.9,random_state=100,chunksize=100 )"
   ]
  },
  {
   "cell_type": "code",
   "execution_count": 188,
   "metadata": {
    "ExecuteTime": {
     "end_time": "2020-10-05T12:01:28.285044Z",
     "start_time": "2020-10-05T12:01:28.271854Z"
    }
   },
   "outputs": [],
   "source": [
    "class color:\n",
    "   PURPLE = '\\033[95m'\n",
    "   CYAN = '\\033[96m'\n",
    "   DARKCYAN = '\\033[36m'\n",
    "   BLUE = '\\033[94m'\n",
    "   GREEN = '\\033[92m'\n",
    "   YELLOW = '\\033[93m'\n",
    "   RED = '\\033[91m'\n",
    "   BOLD = '\\033[1m'\n",
    "   UNDERLINE = '\\033[4m'\n",
    "   END = '\\033[0m'\n",
    "\n"
   ]
  },
  {
   "cell_type": "code",
   "execution_count": 189,
   "metadata": {
    "ExecuteTime": {
     "end_time": "2020-10-05T12:01:28.300887Z",
     "start_time": "2020-10-05T12:01:28.286854Z"
    }
   },
   "outputs": [
    {
     "name": "stdout",
     "output_type": "stream",
     "text": [
      "[(0,\n",
      "  '0.007*\"covid\" + 0.007*\"test\" + 0.006*\"think\" + 0.006*\"care\" + 0.006*\"get\" + '\n",
      "  '0.006*\"much\" + 0.005*\"health\" + 0.005*\"many\" + 0.004*\"go\" + 0.004*\"day\"'),\n",
      " (1,\n",
      "  '0.008*\"well\" + 0.007*\"covid\" + 0.005*\"care\" + 0.005*\"health\" + 0.004*\"see\" '\n",
      "  '+ 0.004*\"one\" + 0.004*\"strategy\" + 0.004*\"video_tutorial\" + '\n",
      "  '0.004*\"discover\" + 0.004*\"rehabilitate\"'),\n",
      " (2,\n",
      "  '0.012*\"care\" + 0.005*\"see\" + 0.005*\"back\" + 0.005*\"may\" + 0.004*\"health\" + '\n",
      "  '0.004*\"make\" + 0.004*\"leave\" + 0.004*\"give\" + 0.004*\"think\" + 0.003*\"next\"'),\n",
      " (3,\n",
      "  '0.006*\"test\" + 0.005*\"people\" + 0.005*\"covid\" + 0.004*\"want\" + 0.004*\"sad\" '\n",
      "  '+ 0.004*\"make\" + 0.003*\"pandemic\" + 0.003*\"week\" + 0.003*\"feel\" + '\n",
      "  '0.003*\"look\"'),\n",
      " (4,\n",
      "  '0.008*\"health\" + 0.008*\"consider\" + 0.007*\"care\" + 0.006*\"recuperate\" + '\n",
      "  '0.005*\"family\" + 0.005*\"forego\" + 0.004*\"look\" + 0.004*\"covid\" + '\n",
      "  '0.003*\"case\" + 0.003*\"get\"')]\n"
     ]
    }
   ],
   "source": [
    "from pprint import pprint\n",
    "# title = 'Topics of Fear dataset 03-09 Aug'\n",
    "#print(color.BOLD + title + color.END)\n",
    "\n",
    "# Print the Keyword in the 10 topics\n",
    "pprint(lda_model.print_topics())\n",
    "doc_lda = lda_model[corpus]"
   ]
  },
  {
   "cell_type": "code",
   "execution_count": 191,
   "metadata": {
    "ExecuteTime": {
     "end_time": "2020-10-05T12:01:34.392879Z",
     "start_time": "2020-10-05T12:01:34.375888Z"
    },
    "scrolled": true
   },
   "outputs": [],
   "source": [
    "# from matplotlib import pyplot as plt\n",
    "# from wordcloud import WordCloud, STOPWORDS\n",
    "# import matplotlib.colors as mcolors\n",
    "\n",
    "# cols = [color for name, color in mcolors.TABLEAU_COLORS.items()]  # more colors: 'mcolors.XKCD_COLORS'\n",
    "\n",
    "# cloud = WordCloud(stopwords=stop_words,\n",
    "#                   background_color='white',\n",
    "#                   width=2500,\n",
    "#                   height=1800,\n",
    "#                   max_words=10,\n",
    "#                   colormap='tab10',\n",
    "#                   color_func=lambda *args, **kwargs: cols[i],\n",
    "#                   prefer_horizontal=1.0)\n",
    "\n",
    "# topics = lda_model.show_topics(formatted=False)\n",
    "\n",
    "# fig, axes = plt.subplots(2, 2, figsize=(10,20), sharex=True, sharey=True)\n",
    "\n",
    "# for i, ax in enumerate(axes.flatten()):\n",
    "#     fig.add_subplot(ax)\n",
    "#     topic_words = dict(topics[i][1])\n",
    "#     cloud.generate_from_frequencies(topic_words, max_font_size=300)\n",
    "#     plt.gca().imshow(cloud)\n",
    "#     plt.gca().set_title('Topic ' + str(i), fontdict=dict(size=16))\n",
    "#     plt.gca().axis('off')\n",
    "\n",
    "\n",
    "# plt.subplots_adjust(wspace=0, hspace=0)\n",
    "# plt.axis('off')\n",
    "# #plt.title(title)\n",
    "# plt.margins(x=0, y=0)\n",
    "# plt.tight_layout()\n",
    "# plt.show()"
   ]
  },
  {
   "cell_type": "markdown",
   "metadata": {},
   "source": [
    "# Inference"
   ]
  },
  {
   "cell_type": "code",
   "execution_count": 192,
   "metadata": {
    "ExecuteTime": {
     "end_time": "2020-10-05T12:01:34.781546Z",
     "start_time": "2020-10-05T12:01:34.761547Z"
    }
   },
   "outputs": [],
   "source": [
    "def prepar_data(text):\n",
    "    text = cleanning(text)\n",
    "    text = gensim.utils.simple_preprocess(str(text), deacc=True) # tokenising\n",
    "    data_words_nostops = remove_stopwords(text) # removing stp words\n",
    "    data_words_bigrams = make_bigrams(data_words_nostops)\n",
    "    data_lemmatized = lemmatization(data_words_bigrams, allowed_postags=['NOUN', 'ADJ', 'VERB', 'ADV']) # lametising\n",
    "    data = [x[0] for x in data_lemmatized if x != []]\n",
    "    \n",
    "    return data"
   ]
  },
  {
   "cell_type": "code",
   "execution_count": 193,
   "metadata": {
    "ExecuteTime": {
     "end_time": "2020-10-05T12:01:39.254089Z",
     "start_time": "2020-10-05T12:01:34.952764Z"
    },
    "scrolled": false
   },
   "outputs": [
    {
     "data": {
      "application/vnd.jupyter.widget-view+json": {
       "model_id": "59d6498cea2a412d85736475601ed5a5",
       "version_major": 2,
       "version_minor": 0
      },
      "text/plain": [
       "HBox(children=(FloatProgress(value=0.0, max=191.0), HTML(value='')))"
      ]
     },
     "metadata": {},
     "output_type": "display_data"
    },
    {
     "name": "stderr",
     "output_type": "stream",
     "text": [
      "<ipython-input-193-d2758a68b499>:4: SettingWithCopyWarning: \n",
      "A value is trying to be set on a copy of a slice from a DataFrame\n",
      "\n",
      "See the caveats in the documentation: https://pandas.pydata.org/pandas-docs/stable/user_guide/indexing.html#returning-a-view-versus-a-copy\n",
      "  dataset['tokenised'][i] = prepar_data(dataset['Tweet_clnd'][i])\n",
      "C:\\ProgramData\\Anaconda3\\envs\\bul7cv\\lib\\site-packages\\pandas\\core\\indexing.py:671: SettingWithCopyWarning: \n",
      "A value is trying to be set on a copy of a slice from a DataFrame\n",
      "\n",
      "See the caveats in the documentation: https://pandas.pydata.org/pandas-docs/stable/user_guide/indexing.html#returning-a-view-versus-a-copy\n",
      "  self._setitem_with_indexer(indexer, value)\n"
     ]
    },
    {
     "name": "stdout",
     "output_type": "stream",
     "text": [
      "\n"
     ]
    }
   ],
   "source": [
    "dataset['tokenised'] = 0\n",
    "for i in trange(dataset.shape[0]):\n",
    "    tweet = dataset['Tweet_clnd'][i]\n",
    "    dataset['tokenised'][i] = prepar_data(dataset['Tweet_clnd'][i])"
   ]
  },
  {
   "cell_type": "code",
   "execution_count": 194,
   "metadata": {
    "ExecuteTime": {
     "end_time": "2020-10-05T12:01:39.347088Z",
     "start_time": "2020-10-05T12:01:39.256090Z"
    }
   },
   "outputs": [
    {
     "data": {
      "application/vnd.jupyter.widget-view+json": {
       "model_id": "1b3ed842d0a945db98920bd453d1a6f7",
       "version_major": 2,
       "version_minor": 0
      },
      "text/plain": [
       "HBox(children=(FloatProgress(value=0.0, max=191.0), HTML(value='')))"
      ]
     },
     "metadata": {},
     "output_type": "display_data"
    },
    {
     "name": "stdout",
     "output_type": "stream",
     "text": [
      "\n"
     ]
    }
   ],
   "source": [
    "# inference\n",
    "topics =[]\n",
    "for i in trange(dataset.shape[0]):\n",
    "    toknsd_txt = dataset['tokenised'][i]\n",
    "    new_doc_bow = id2word.doc2bow(toknsd_txt)\n",
    "    topic = lda_model.get_document_topics(new_doc_bow)\n",
    "    topics.append(topic)\n",
    "    "
   ]
  },
  {
   "cell_type": "code",
   "execution_count": 195,
   "metadata": {
    "ExecuteTime": {
     "end_time": "2020-10-05T12:01:40.250273Z",
     "start_time": "2020-10-05T12:01:40.232276Z"
    }
   },
   "outputs": [],
   "source": [
    "dataset['topics'] = topics"
   ]
  },
  {
   "cell_type": "code",
   "execution_count": 196,
   "metadata": {
    "ExecuteTime": {
     "end_time": "2020-10-05T12:01:40.877029Z",
     "start_time": "2020-10-05T12:01:40.872023Z"
    }
   },
   "outputs": [],
   "source": [
    "# tpl1 = dataset['topics'][0]\n",
    "# tpl1[0][0]"
   ]
  },
  {
   "cell_type": "code",
   "execution_count": 197,
   "metadata": {
    "ExecuteTime": {
     "end_time": "2020-10-05T12:01:41.329727Z",
     "start_time": "2020-10-05T12:01:41.319733Z"
    }
   },
   "outputs": [],
   "source": [
    "# tpl2 = dataset['topics'][1664]\n",
    "# tpl2"
   ]
  },
  {
   "cell_type": "code",
   "execution_count": 198,
   "metadata": {
    "ExecuteTime": {
     "end_time": "2020-10-05T12:01:41.813628Z",
     "start_time": "2020-10-05T12:01:41.800630Z"
    }
   },
   "outputs": [],
   "source": [
    "# topics_s=[]\n",
    "# scores = []\n",
    "\n",
    "# for i in range(len(tpl2)):\n",
    "#     topics_s.append(tpl2[i][0])\n",
    "#     scores.append(tpl2[i][1])"
   ]
  },
  {
   "cell_type": "code",
   "execution_count": 199,
   "metadata": {
    "ExecuteTime": {
     "end_time": "2020-10-05T12:01:42.062818Z",
     "start_time": "2020-10-05T12:01:42.057818Z"
    }
   },
   "outputs": [],
   "source": [
    "# idx = scores.index(max(scores))\n",
    "# topics_s[idx]"
   ]
  },
  {
   "cell_type": "code",
   "execution_count": 200,
   "metadata": {
    "ExecuteTime": {
     "end_time": "2020-10-05T12:01:42.263322Z",
     "start_time": "2020-10-05T12:01:42.248325Z"
    }
   },
   "outputs": [],
   "source": [
    "# def max_idx(lst):\n",
    "#     return lst.index(max(lst))"
   ]
  },
  {
   "cell_type": "code",
   "execution_count": 201,
   "metadata": {
    "ExecuteTime": {
     "end_time": "2020-10-05T12:01:42.576156Z",
     "start_time": "2020-10-05T12:01:42.521193Z"
    }
   },
   "outputs": [
    {
     "data": {
      "application/vnd.jupyter.widget-view+json": {
       "model_id": "0cf0b36bfa94495893103ba103e619ae",
       "version_major": 2,
       "version_minor": 0
      },
      "text/plain": [
       "HBox(children=(FloatProgress(value=0.0, max=191.0), HTML(value='')))"
      ]
     },
     "metadata": {},
     "output_type": "display_data"
    },
    {
     "name": "stdout",
     "output_type": "stream",
     "text": [
      "\n"
     ]
    },
    {
     "name": "stderr",
     "output_type": "stream",
     "text": [
      "<ipython-input-201-8fbb36ef4e20>:12: SettingWithCopyWarning: \n",
      "A value is trying to be set on a copy of a slice from a DataFrame\n",
      "\n",
      "See the caveats in the documentation: https://pandas.pydata.org/pandas-docs/stable/user_guide/indexing.html#returning-a-view-versus-a-copy\n",
      "  dataset['topic'][i]=topics[idx]\n"
     ]
    }
   ],
   "source": [
    "dataset['topic'] = 0\n",
    "\n",
    "\n",
    "for i in trange(dataset.shape[0]):\n",
    "    tpls = dataset['topics'][i]\n",
    "    topics =[]\n",
    "    scores =[]\n",
    "    for j in range(len(tpls)):\n",
    "        topics.append(tpls[j][0])\n",
    "        scores.append(tpls[j][1])\n",
    "        idx = scores.index(max(scores))\n",
    "        dataset['topic'][i]=topics[idx]\n",
    "        "
   ]
  },
  {
   "cell_type": "code",
   "execution_count": 202,
   "metadata": {
    "ExecuteTime": {
     "end_time": "2020-10-05T12:01:44.121507Z",
     "start_time": "2020-10-05T12:01:44.104508Z"
    }
   },
   "outputs": [],
   "source": [
    "dataset = dataset.drop(['Tweet_clnd','tokenised','topics'], axis = 1)\n"
   ]
  },
  {
   "cell_type": "code",
   "execution_count": 203,
   "metadata": {
    "ExecuteTime": {
     "end_time": "2020-10-05T12:01:50.287090Z",
     "start_time": "2020-10-05T12:01:50.215028Z"
    }
   },
   "outputs": [],
   "source": [
    "dataset.to_excel('./output/anger_topics_28sep-04oct.xlsx', index=False)"
   ]
  },
  {
   "cell_type": "code",
   "execution_count": 77,
   "metadata": {
    "ExecuteTime": {
     "end_time": "2020-08-26T11:35:24.388464Z",
     "start_time": "2020-08-26T11:35:24.385505Z"
    }
   },
   "outputs": [],
   "source": [
    "# tweet = dataset['Tweet'][4]\n",
    "# tweet = cleanning(tweet) # cleaning \n",
    "# tweet = gensim.utils.simple_preprocess(str(sentence), deacc=True) # tokenising\n",
    "# data_words_nostops = remove_stopwords(tweet) # removing stp words\n",
    "# data_words_bigrams = make_bigrams(data_words_nostops) # making bigrams\n",
    "# data_lemmatized = lemmatization(data_words_bigrams, allowed_postags=['NOUN', 'ADJ', 'VERB', 'ADV']) # lametising\n",
    "# data_lemmatized = [x[0] for x in data_lemmatized if x != []]"
   ]
  },
  {
   "cell_type": "code",
   "execution_count": 78,
   "metadata": {
    "ExecuteTime": {
     "end_time": "2020-08-26T11:35:28.580734Z",
     "start_time": "2020-08-26T11:35:28.577709Z"
    }
   },
   "outputs": [],
   "source": [
    "# new_doc_bow = id2word.doc2bow(data_lemmatized)\n",
    "# pprint(lda_model.get_document_topics(new_doc_bow))"
   ]
  },
  {
   "cell_type": "code",
   "execution_count": 39,
   "metadata": {
    "ExecuteTime": {
     "end_time": "2020-08-25T14:12:12.657326Z",
     "start_time": "2020-08-25T14:12:12.653301Z"
    }
   },
   "outputs": [],
   "source": [
    "# data_words_nostops = remove_stopwords(tweet)\n",
    "\n",
    "# # Form Bigrams\n",
    "# data_words_bigrams = make_bigrams(data_words_nostops)\n",
    "\n",
    "# # Initialize spacy 'en' model, keeping only tagger component (for efficiency)\n",
    "# nlp = spacy.load(\"en_core_web_sm\", disable=['parser', 'ner'])\n",
    "\n",
    "# # Do lemmatization keeping only noun, adj, vb, adv\n",
    "# data_lemmatized = lemmatization(data_words_bigrams, allowed_postags=['NOUN', 'ADJ', 'VERB', 'ADV'])\n",
    "\n",
    "# data_lemmatized = [x[0] for x in data_lemmatized if x != []]\n",
    "# data_lemmatized"
   ]
  },
  {
   "cell_type": "code",
   "execution_count": 148,
   "metadata": {
    "ExecuteTime": {
     "end_time": "2020-08-25T12:18:39.609335Z",
     "start_time": "2020-08-25T12:18:39.605832Z"
    }
   },
   "outputs": [],
   "source": [
    "new_doc_bow = id2word.doc2bow(data_lemmatized)"
   ]
  },
  {
   "cell_type": "code",
   "execution_count": 149,
   "metadata": {
    "ExecuteTime": {
     "end_time": "2020-08-25T12:18:40.090221Z",
     "start_time": "2020-08-25T12:18:40.086199Z"
    }
   },
   "outputs": [
    {
     "name": "stdout",
     "output_type": "stream",
     "text": [
      "[(5, 0.9959005)]\n"
     ]
    }
   ],
   "source": [
    "print(lda_model.get_document_topics(new_doc_bow))"
   ]
  },
  {
   "cell_type": "code",
   "execution_count": 121,
   "metadata": {
    "ExecuteTime": {
     "end_time": "2020-08-25T12:13:57.565414Z",
     "start_time": "2020-08-25T12:13:57.559430Z"
    }
   },
   "outputs": [],
   "source": [
    "topics =lda_model.get_document_topics(new_doc_bow)"
   ]
  },
  {
   "cell_type": "code",
   "execution_count": 150,
   "metadata": {
    "ExecuteTime": {
     "end_time": "2020-08-25T13:47:19.022082Z",
     "start_time": "2020-08-25T13:47:18.864412Z"
    }
   },
   "outputs": [
    {
     "data": {
      "text/plain": [
       "[(0, 0.6393454), (4, 0.35639077)]"
      ]
     },
     "execution_count": 150,
     "metadata": {},
     "output_type": "execute_result"
    }
   ],
   "source": [
    "topics"
   ]
  },
  {
   "cell_type": "code",
   "execution_count": null,
   "metadata": {},
   "outputs": [],
   "source": []
  }
 ],
 "metadata": {
  "kernelspec": {
   "display_name": "Python 3",
   "language": "python",
   "name": "python3"
  },
  "language_info": {
   "codemirror_mode": {
    "name": "ipython",
    "version": 3
   },
   "file_extension": ".py",
   "mimetype": "text/x-python",
   "name": "python",
   "nbconvert_exporter": "python",
   "pygments_lexer": "ipython3",
   "version": "3.7.9"
  },
  "toc": {
   "base_numbering": 1,
   "nav_menu": {},
   "number_sections": true,
   "sideBar": true,
   "skip_h1_title": false,
   "title_cell": "Table of Contents",
   "title_sidebar": "Contents",
   "toc_cell": false,
   "toc_position": {
    "height": "calc(100% - 180px)",
    "left": "10px",
    "top": "150px",
    "width": "170px"
   },
   "toc_section_display": true,
   "toc_window_display": true
  }
 },
 "nbformat": 4,
 "nbformat_minor": 2
}

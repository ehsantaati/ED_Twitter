{
 "cells": [
  {
   "cell_type": "code",
   "execution_count": 1,
   "metadata": {
    "ExecuteTime": {
     "end_time": "2020-10-05T09:28:53.773457Z",
     "start_time": "2020-10-05T09:28:47.197069Z"
    }
   },
   "outputs": [],
   "source": [
    "import os\n",
    "import pandas as pd\n",
    "from twitterED.utilities.utils import text_cleaning, tokenizer,encoding_data,get_length\n",
    "from twitterED.network.model import BERT\n",
    "from torch.utils.data import TensorDataset ,DataLoader\n",
    "import torch\n",
    "from tqdm.notebook import tqdm\n",
    "import numpy as np\n",
    "from twitterED.utilities.prediction import predict, labels"
   ]
  },
  {
   "cell_type": "code",
   "execution_count": 2,
   "metadata": {
    "ExecuteTime": {
     "end_time": "2020-10-04T17:34:24.973042Z",
     "start_time": "2020-10-04T17:34:24.933042Z"
    }
   },
   "outputs": [
    {
     "data": {
      "text/html": [
       "<div>\n",
       "<style scoped>\n",
       "    .dataframe tbody tr th:only-of-type {\n",
       "        vertical-align: middle;\n",
       "    }\n",
       "\n",
       "    .dataframe tbody tr th {\n",
       "        vertical-align: top;\n",
       "    }\n",
       "\n",
       "    .dataframe thead th {\n",
       "        text-align: right;\n",
       "    }\n",
       "</style>\n",
       "<table border=\"1\" class=\"dataframe\">\n",
       "  <thead>\n",
       "    <tr style=\"text-align: right;\">\n",
       "      <th></th>\n",
       "      <th>Tweet ID</th>\n",
       "      <th>Username</th>\n",
       "      <th>Tweet</th>\n",
       "      <th>Date of tweet</th>\n",
       "      <th>Time of tweet</th>\n",
       "      <th>Tweet_type</th>\n",
       "      <th>Location</th>\n",
       "    </tr>\n",
       "  </thead>\n",
       "  <tbody>\n",
       "    <tr>\n",
       "      <th>0</th>\n",
       "      <td>1312541672916615168</td>\n",
       "      <td>🥇Warrior Network💪</td>\n",
       "      <td>Losing fat is probably simplistic whilst integ...</td>\n",
       "      <td>2020-10-03</td>\n",
       "      <td>23:54:55</td>\n",
       "      <td>Tweet</td>\n",
       "      <td>Bournemouth, England</td>\n",
       "    </tr>\n",
       "    <tr>\n",
       "      <th>1</th>\n",
       "      <td>1312541345484017665</td>\n",
       "      <td>Jim</td>\n",
       "      <td>@realDonaldTrump First China virus now Plague ...</td>\n",
       "      <td>2020-10-03</td>\n",
       "      <td>23:53:37</td>\n",
       "      <td>Tweet</td>\n",
       "      <td>Weymouth, England</td>\n",
       "    </tr>\n",
       "    <tr>\n",
       "      <th>2</th>\n",
       "      <td>1312540747346972672</td>\n",
       "      <td>Peter Lamb</td>\n",
       "      <td>@Oh_So_Blunt @miffythegamer But look at the st...</td>\n",
       "      <td>2020-10-03</td>\n",
       "      <td>23:51:14</td>\n",
       "      <td>Tweet</td>\n",
       "      <td>Dorset UK</td>\n",
       "    </tr>\n",
       "    <tr>\n",
       "      <th>3</th>\n",
       "      <td>1312538678783213569</td>\n",
       "      <td>gabriel</td>\n",
       "      <td>RT @TBroomey: The mournful tone, the uncharact...</td>\n",
       "      <td>2020-10-03</td>\n",
       "      <td>23:43:01</td>\n",
       "      <td>ReTweet</td>\n",
       "      <td>Joinville, Brasil</td>\n",
       "    </tr>\n",
       "    <tr>\n",
       "      <th>4</th>\n",
       "      <td>1312538070181310465</td>\n",
       "      <td>🥇Warrior Network💪</td>\n",
       "      <td>I want to uncover my fortune suggestions; retu...</td>\n",
       "      <td>2020-10-03</td>\n",
       "      <td>23:40:36</td>\n",
       "      <td>Tweet</td>\n",
       "      <td>Bournemouth, England</td>\n",
       "    </tr>\n",
       "  </tbody>\n",
       "</table>\n",
       "</div>"
      ],
      "text/plain": [
       "              Tweet ID           Username  \\\n",
       "0  1312541672916615168  🥇Warrior Network💪   \n",
       "1  1312541345484017665                Jim   \n",
       "2  1312540747346972672         Peter Lamb   \n",
       "3  1312538678783213569            gabriel   \n",
       "4  1312538070181310465  🥇Warrior Network💪   \n",
       "\n",
       "                                               Tweet Date of tweet  \\\n",
       "0  Losing fat is probably simplistic whilst integ...    2020-10-03   \n",
       "1  @realDonaldTrump First China virus now Plague ...    2020-10-03   \n",
       "2  @Oh_So_Blunt @miffythegamer But look at the st...    2020-10-03   \n",
       "3  RT @TBroomey: The mournful tone, the uncharact...    2020-10-03   \n",
       "4  I want to uncover my fortune suggestions; retu...    2020-10-03   \n",
       "\n",
       "  Time of tweet Tweet_type              Location  \n",
       "0      23:54:55      Tweet  Bournemouth, England  \n",
       "1      23:53:37      Tweet     Weymouth, England  \n",
       "2      23:51:14      Tweet             Dorset UK  \n",
       "3      23:43:01    ReTweet     Joinville, Brasil  \n",
       "4      23:40:36      Tweet  Bournemouth, England  "
      ]
     },
     "execution_count": 2,
     "metadata": {},
     "output_type": "execute_result"
    }
   ],
   "source": [
    "df_infr = pd.read_csv('data.csv',header=0)\n",
    "df_infr.head()"
   ]
  },
  {
   "cell_type": "code",
   "execution_count": 3,
   "metadata": {
    "ExecuteTime": {
     "end_time": "2020-10-04T17:34:25.606836Z",
     "start_time": "2020-10-04T17:34:25.524834Z"
    }
   },
   "outputs": [],
   "source": [
    "#cleaning text\n",
    "# fixing contarctions\n",
    "df_infr['Tweet']= df_infr['Tweet'].apply(text_cleaning.fix_contractions)\n",
    "# remove accent characters\n",
    "df_infr['Tweet']= df_infr['Tweet'].apply(text_cleaning.remove_accented_chars)\n",
    "# remove digits\n",
    "df_infr['Tweet']= df_infr['Tweet'].apply(text_cleaning.remove_digits)\n",
    "#remove excess withe spaces\n",
    "df_infr['Tweet']= df_infr['Tweet'].apply(text_cleaning.remove_excess_whitespace)\n",
    "# remove punctuations except ?!\n",
    "df_infr['Tweet']= df_infr['Tweet'].apply(text_cleaning.rm_punctuation1)\n",
    "# teurn to lower case\n",
    "df_infr['Tweet']= df_infr['Tweet'].apply(text_cleaning.lower)"
   ]
  },
  {
   "cell_type": "code",
   "execution_count": 4,
   "metadata": {
    "ExecuteTime": {
     "end_time": "2020-10-04T17:34:26.691672Z",
     "start_time": "2020-10-04T17:34:26.244671Z"
    }
   },
   "outputs": [
    {
     "name": "stdout",
     "output_type": "stream",
     "text": [
      "maximum length of tweet:53\n"
     ]
    }
   ],
   "source": [
    "max_len = max(df_infr['Tweet'].apply(get_length))\n",
    "print (f'maximum length of tweet:{max_len}')"
   ]
  },
  {
   "cell_type": "code",
   "execution_count": 5,
   "metadata": {
    "ExecuteTime": {
     "end_time": "2020-10-04T17:34:27.621669Z",
     "start_time": "2020-10-04T17:34:27.204670Z"
    }
   },
   "outputs": [
    {
     "name": "stderr",
     "output_type": "stream",
     "text": [
      "C:\\Users\\ehsan\\.conda\\envs\\emodetection\\lib\\site-packages\\transformers\\tokenization_utils_base.py:1770: FutureWarning: The `pad_to_max_length` argument is deprecated and will be removed in a future version, use `padding=True` or `padding='longest'` to pad to the longest sequence in the batch, or use `padding='max_length'` to pad to a max length. In this case, you can give a specific length with `max_length` (e.g. `max_length=45`) or leave max_length to None to pad to the maximal input size of the model (e.g. 512 for Bert).\n",
      "  FutureWarning,\n"
     ]
    }
   ],
   "source": [
    "infr_data = df_infr.Tweet.values\n",
    "encoded_data_infer = encoding_data(infr_data, max_len = max_len)\n",
    "#encoding process above returns dictionaries. We grab input ID tokens, attention mask, and labels from this\n",
    "input_ids_infer = encoded_data_infer['input_ids'] #return each sentence as a #\n",
    "attention_masks_infer = encoded_data_infer['attention_mask'] #returns a pytorch tensor"
   ]
  },
  {
   "cell_type": "code",
   "execution_count": 6,
   "metadata": {
    "ExecuteTime": {
     "end_time": "2020-10-04T17:34:29.355160Z",
     "start_time": "2020-10-04T17:34:29.340178Z"
    }
   },
   "outputs": [],
   "source": [
    "dataset_infr = TensorDataset(input_ids_infer, attention_masks_infer)\n",
    "dataloader_infr = DataLoader(dataset_infr,batch_size=16)"
   ]
  },
  {
   "cell_type": "code",
   "execution_count": 7,
   "metadata": {
    "ExecuteTime": {
     "end_time": "2020-10-04T17:34:34.100299Z",
     "start_time": "2020-10-04T17:34:30.243494Z"
    }
   },
   "outputs": [
    {
     "name": "stderr",
     "output_type": "stream",
     "text": [
      "Some weights of the model checkpoint at bert-base-uncased were not used when initializing BertForSequenceClassification: ['cls.predictions.bias', 'cls.predictions.transform.dense.weight', 'cls.predictions.transform.dense.bias', 'cls.predictions.decoder.weight', 'cls.seq_relationship.weight', 'cls.seq_relationship.bias', 'cls.predictions.transform.LayerNorm.weight', 'cls.predictions.transform.LayerNorm.bias']\n",
      "- This IS expected if you are initializing BertForSequenceClassification from the checkpoint of a model trained on another task or with another architecture (e.g. initializing a BertForSequenceClassification model from a BertForPretraining model).\n",
      "- This IS NOT expected if you are initializing BertForSequenceClassification from the checkpoint of a model that you expect to be exactly identical (initializing a BertForSequenceClassification model from a BertForSequenceClassification model).\n",
      "Some weights of BertForSequenceClassification were not initialized from the model checkpoint at bert-base-uncased and are newly initialized: ['classifier.weight', 'classifier.bias']\n",
      "You should probably TRAIN this model on a down-stream task to be able to use it for predictions and inference.\n"
     ]
    }
   ],
   "source": [
    "label_dict = labels['botdtct']\n",
    "model = BERT(label_dict=label_dict)\n"
   ]
  },
  {
   "cell_type": "code",
   "execution_count": 8,
   "metadata": {
    "ExecuteTime": {
     "end_time": "2020-10-04T17:34:37.421657Z",
     "start_time": "2020-10-04T17:34:37.365597Z"
    }
   },
   "outputs": [],
   "source": [
    "device = torch.device(\"cuda:0\" if torch.cuda.is_available() else \"cpu\")"
   ]
  },
  {
   "cell_type": "code",
   "execution_count": 11,
   "metadata": {
    "ExecuteTime": {
     "end_time": "2020-10-04T17:39:04.657075Z",
     "start_time": "2020-10-04T17:39:01.732014Z"
    }
   },
   "outputs": [],
   "source": [
    "model_path = 'wieght/botdtc/Epoch-2.model'\n",
    "model.load_state_dict(torch.load(model_path))\n",
    "\n",
    "model.eval()\n",
    "model.to(device)\n",
    "pass"
   ]
  },
  {
   "cell_type": "code",
   "execution_count": 10,
   "metadata": {
    "ExecuteTime": {
     "end_time": "2020-10-03T13:21:44.837749Z",
     "start_time": "2020-10-03T13:21:44.829750Z"
    },
    "scrolled": true
   },
   "outputs": [
    {
     "data": {
      "text/plain": [
       "'bot'"
      ]
     },
     "execution_count": 10,
     "metadata": {},
     "output_type": "execute_result"
    }
   ],
   "source": [
    "i2c = lambda i: [k for k,v in label_dict.items() if v ==i][0]\n",
    "i2c(0)"
   ]
  },
  {
   "cell_type": "code",
   "execution_count": 11,
   "metadata": {
    "ExecuteTime": {
     "end_time": "2020-10-03T13:22:24.563078Z",
     "start_time": "2020-10-03T13:22:24.558078Z"
    }
   },
   "outputs": [],
   "source": [
    "def predict(dataloader_infr, model, device, predictions=None):\n",
    "    \n",
    "    if predictions is None:\n",
    "        predictions = []\n",
    "\n",
    "    for batch in tqdm(dataloader_infr):\n",
    "\n",
    "        batch = tuple(b.to(device) for b in batch)\n",
    "\n",
    "        inputs = {'input_ids':      batch[0],\n",
    "                  'attention_mask': batch[1],\n",
    "                 }\n",
    "        #ignore/disable gradients\n",
    "        with torch.no_grad():        \n",
    "            outputs = model(**inputs)\n",
    "\n",
    "        #loss = outputs[0]\n",
    "        logits = outputs[0]\n",
    "        #loss_val_total += loss.item()\n",
    "\n",
    "        #detach from CPU means pulling values out of GPU to CPU\n",
    "        #so we can use numpy\n",
    "        logits = logits.detach().cpu().numpy()\n",
    "        #label_ids = inputs['labels'].cpu().numpy()\n",
    "        \n",
    "        predictions.append(logits)\n",
    "        \n",
    "    predictions = np.concatenate(predictions, axis=0)\n",
    "    preds_flat = np.argmax(predictions, axis=1).flatten()\n",
    "\n",
    "        \n",
    "    return preds_flat.tolist()"
   ]
  },
  {
   "cell_type": "code",
   "execution_count": 12,
   "metadata": {
    "ExecuteTime": {
     "end_time": "2020-10-03T13:23:00.466314Z",
     "start_time": "2020-10-03T13:22:26.404534Z"
    }
   },
   "outputs": [
    {
     "data": {
      "application/vnd.jupyter.widget-view+json": {
       "model_id": "7155ecdfda7c4e8eb2caf47d1047cb2e",
       "version_major": 2,
       "version_minor": 0
      },
      "text/plain": [
       "HBox(children=(FloatProgress(value=0.0, max=363.0), HTML(value='')))"
      ]
     },
     "metadata": {},
     "output_type": "display_data"
    },
    {
     "name": "stdout",
     "output_type": "stream",
     "text": [
      "\n"
     ]
    }
   ],
   "source": [
    "prediction = predict(dataloader_infr, model=model, device=device)"
   ]
  },
  {
   "cell_type": "code",
   "execution_count": 22,
   "metadata": {
    "ExecuteTime": {
     "end_time": "2020-10-03T12:52:27.639746Z",
     "start_time": "2020-10-03T12:52:27.620929Z"
    }
   },
   "outputs": [
    {
     "data": {
      "text/plain": [
       "[1, 1, 1, 1, 1, 1, 1, 1, 1, 1, 1, 1, 1, 1, 1, 1]"
      ]
     },
     "execution_count": 22,
     "metadata": {},
     "output_type": "execute_result"
    }
   ],
   "source": [
    "prediction"
   ]
  },
  {
   "cell_type": "code",
   "execution_count": 13,
   "metadata": {
    "ExecuteTime": {
     "end_time": "2020-10-03T13:23:15.221489Z",
     "start_time": "2020-10-03T13:23:15.183493Z"
    }
   },
   "outputs": [
    {
     "data": {
      "text/html": [
       "<div>\n",
       "<style scoped>\n",
       "    .dataframe tbody tr th:only-of-type {\n",
       "        vertical-align: middle;\n",
       "    }\n",
       "\n",
       "    .dataframe tbody tr th {\n",
       "        vertical-align: top;\n",
       "    }\n",
       "\n",
       "    .dataframe thead th {\n",
       "        text-align: right;\n",
       "    }\n",
       "</style>\n",
       "<table border=\"1\" class=\"dataframe\">\n",
       "  <thead>\n",
       "    <tr style=\"text-align: right;\">\n",
       "      <th></th>\n",
       "      <th>Unnamed: 0</th>\n",
       "      <th>Tweet ID</th>\n",
       "      <th>Username</th>\n",
       "      <th>Tweet</th>\n",
       "      <th>Date of tweet</th>\n",
       "      <th>Time of tweet</th>\n",
       "      <th>Tweet_Type</th>\n",
       "      <th>Location</th>\n",
       "      <th>Set 1(fully cleaned)</th>\n",
       "      <th>Pred_int</th>\n",
       "      <th>account</th>\n",
       "      <th>acc_type</th>\n",
       "    </tr>\n",
       "  </thead>\n",
       "  <tbody>\n",
       "    <tr>\n",
       "      <th>0</th>\n",
       "      <td>0</td>\n",
       "      <td>1307816586410100000</td>\n",
       "      <td>_____811_______</td>\n",
       "      <td>rt   ah yes  the public who failed care homes ...</td>\n",
       "      <td>20/09/2020</td>\n",
       "      <td>23:59:06</td>\n",
       "      <td>ReTweet</td>\n",
       "      <td>Birmingham, England</td>\n",
       "      <td>ye public fail care home support cum durham tr...</td>\n",
       "      <td>0</td>\n",
       "      <td>personal</td>\n",
       "      <td>human</td>\n",
       "    </tr>\n",
       "    <tr>\n",
       "      <th>1</th>\n",
       "      <td>1</td>\n",
       "      <td>1307816458462850000</td>\n",
       "      <td>DeuxLeopardsdor</td>\n",
       "      <td>rt   is it possible that dido harding and her ...</td>\n",
       "      <td>20/09/2020</td>\n",
       "      <td>23:58:36</td>\n",
       "      <td>ReTweet</td>\n",
       "      <td>Europe</td>\n",
       "      <td>dido hard husband john penros nh overwhelm pus...</td>\n",
       "      <td>0</td>\n",
       "      <td>personal</td>\n",
       "      <td>human</td>\n",
       "    </tr>\n",
       "    <tr>\n",
       "      <th>2</th>\n",
       "      <td>2</td>\n",
       "      <td>1307816022834110000</td>\n",
       "      <td>MsKinLondon</td>\n",
       "      <td>rt   ah yes  the public who failed care homes ...</td>\n",
       "      <td>20/09/2020</td>\n",
       "      <td>23:56:52</td>\n",
       "      <td>ReTweet</td>\n",
       "      <td>NaN</td>\n",
       "      <td>ye public fail care home support cum durham tr...</td>\n",
       "      <td>0</td>\n",
       "      <td>personal</td>\n",
       "      <td>human</td>\n",
       "    </tr>\n",
       "    <tr>\n",
       "      <th>3</th>\n",
       "      <td>3</td>\n",
       "      <td>1307815890730330000</td>\n",
       "      <td>carne_sean</td>\n",
       "      <td>rt   ah yes  the public who failed care homes ...</td>\n",
       "      <td>20/09/2020</td>\n",
       "      <td>23:56:21</td>\n",
       "      <td>ReTweet</td>\n",
       "      <td>Laaaandan</td>\n",
       "      <td>ye public fail care home support cum durham tr...</td>\n",
       "      <td>0</td>\n",
       "      <td>personal</td>\n",
       "      <td>human</td>\n",
       "    </tr>\n",
       "    <tr>\n",
       "      <th>4</th>\n",
       "      <td>4</td>\n",
       "      <td>1307815521312800000</td>\n",
       "      <td>OllyMursgirl42</td>\n",
       "      <td>well  i was homeless at then in my 20s with ze...</td>\n",
       "      <td>20/09/2020</td>\n",
       "      <td>23:54:52</td>\n",
       "      <td>Tweet</td>\n",
       "      <td>Bournemouth, England</td>\n",
       "      <td>homeless zero live hardship children mental he...</td>\n",
       "      <td>0</td>\n",
       "      <td>personal</td>\n",
       "      <td>human</td>\n",
       "    </tr>\n",
       "  </tbody>\n",
       "</table>\n",
       "</div>"
      ],
      "text/plain": [
       "   Unnamed: 0             Tweet ID         Username  \\\n",
       "0           0  1307816586410100000  _____811_______   \n",
       "1           1  1307816458462850000  DeuxLeopardsdor   \n",
       "2           2  1307816022834110000      MsKinLondon   \n",
       "3           3  1307815890730330000       carne_sean   \n",
       "4           4  1307815521312800000   OllyMursgirl42   \n",
       "\n",
       "                                               Tweet Date of tweet  \\\n",
       "0  rt   ah yes  the public who failed care homes ...    20/09/2020   \n",
       "1  rt   is it possible that dido harding and her ...    20/09/2020   \n",
       "2  rt   ah yes  the public who failed care homes ...    20/09/2020   \n",
       "3  rt   ah yes  the public who failed care homes ...    20/09/2020   \n",
       "4  well  i was homeless at then in my 20s with ze...    20/09/2020   \n",
       "\n",
       "  Time of tweet Tweet_Type              Location  \\\n",
       "0      23:59:06    ReTweet   Birmingham, England   \n",
       "1      23:58:36    ReTweet                Europe   \n",
       "2      23:56:52    ReTweet                   NaN   \n",
       "3      23:56:21    ReTweet             Laaaandan   \n",
       "4      23:54:52      Tweet  Bournemouth, England   \n",
       "\n",
       "                                Set 1(fully cleaned)  Pred_int   account  \\\n",
       "0  ye public fail care home support cum durham tr...         0  personal   \n",
       "1  dido hard husband john penros nh overwhelm pus...         0  personal   \n",
       "2  ye public fail care home support cum durham tr...         0  personal   \n",
       "3  ye public fail care home support cum durham tr...         0  personal   \n",
       "4  homeless zero live hardship children mental he...         0  personal   \n",
       "\n",
       "  acc_type  \n",
       "0    human  \n",
       "1    human  \n",
       "2    human  \n",
       "3    human  \n",
       "4    human  "
      ]
     },
     "execution_count": 13,
     "metadata": {},
     "output_type": "execute_result"
    }
   ],
   "source": [
    "df_infr['acc_type']=prediction\n",
    "df_infr['acc_type']=df_infr['acc_type'].apply(i2c)\n",
    "df_infr.head()"
   ]
  },
  {
   "cell_type": "code",
   "execution_count": 14,
   "metadata": {
    "ExecuteTime": {
     "end_time": "2020-10-03T13:23:16.359974Z",
     "start_time": "2020-10-03T13:23:15.886310Z"
    }
   },
   "outputs": [
    {
     "data": {
      "image/png": "[encoded data removed]",
      "text/plain": [
       "<Figure size 432x288 with 1 Axes>"
      ]
     },
     "metadata": {
      "needs_background": "light"
     },
     "output_type": "display_data"
    }
   ],
   "source": [
    "ax =df_infr['acc_type'].value_counts().plot.bar(x='lab', y='val', rot=0,color = list('rgbkymc'))"
   ]
  },
  {
   "cell_type": "code",
   "execution_count": null,
   "metadata": {},
   "outputs": [],
   "source": []
  },
  {
   "cell_type": "code",
   "execution_count": null,
   "metadata": {},
   "outputs": [],
   "source": []
  }
 ],
 "metadata": {
  "kernelspec": {
   "display_name": "Python 3",
   "language": "python",
   "name": "python3"
  },
  "language_info": {
   "codemirror_mode": {
    "name": "ipython",
    "version": 3
   },
   "file_extension": ".py",
   "mimetype": "text/x-python",
   "name": "python",
   "nbconvert_exporter": "python",
   "pygments_lexer": "ipython3",
   "version": "3.7.9"
  },
  "toc": {
   "base_numbering": 1,
   "nav_menu": {},
   "number_sections": true,
   "sideBar": true,
   "skip_h1_title": false,
   "title_cell": "Table of Contents",
   "title_sidebar": "Contents",
   "toc_cell": false,
   "toc_position": {},
   "toc_section_display": true,
   "toc_window_display": false
  }
 },
 "nbformat": 4,
 "nbformat_minor": 4
}

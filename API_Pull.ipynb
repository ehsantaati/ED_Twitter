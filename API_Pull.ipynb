{
 "cells": [
  {
   "cell_type": "code",
   "execution_count": 4,
   "metadata": {
    "ExecuteTime": {
     "end_time": "2020-09-10T11:24:57.018505Z",
     "start_time": "2020-09-10T11:24:57.005472Z"
    }
   },
   "outputs": [],
   "source": [
    "#!pip install pandas numpy tweepy "
   ]
  },
  {
   "cell_type": "code",
   "execution_count": 25,
   "metadata": {
    "ExecuteTime": {
     "end_time": "2020-09-11T09:01:17.438385Z",
     "start_time": "2020-09-11T09:01:17.424332Z"
    },
    "colab": {},
    "colab_type": "code",
    "id": "mBaVYbUqH0lt",
    "scrolled": true
   },
   "outputs": [],
   "source": [
    "import pandas as pd #dataframe\n",
    "import tweepy\n",
    "from tweepy import API #searchresults\n",
    "from tweepy import OAuthHandler #authenthicator\n",
    "import numpy as np\n",
    "import datetime # im not sure trying to get last weeks data\n",
    "import os\n",
    "from dateutil import parser\n",
    "from tqdm.notebook import trange,tqdm"
   ]
  },
  {
   "cell_type": "markdown",
   "metadata": {
    "colab_type": "text",
    "id": "9mixvkA1YQPw"
   },
   "source": [
    "# New section"
   ]
  },
  {
   "cell_type": "code",
   "execution_count": 2,
   "metadata": {
    "ExecuteTime": {
     "end_time": "2020-09-11T08:55:48.549730Z",
     "start_time": "2020-09-11T08:55:48.543920Z"
    },
    "colab": {},
    "colab_type": "code",
    "id": "3mgCqlj2JJc9"
   },
   "outputs": [],
   "source": [
    "# personal keys and tokens from Brandons free account\n",
    "consumer_key = 'OT687H4xLVN8ZBqvKEm7hAfGg'\n",
    "consumer_secret = 'DP9rlNkNGZHkvKRYzCz6MdgYZWhAArZZqXGsg0UzZf1oeggNh6'\n",
    "token_key = '115110276-DYsEhoByioc31EvkmDCs5jHKzKhWvT7oqxAcyJ86'\n",
    "token_secret = '4kRGPgkF8NMPqs9wWLcl13jGckBuMc39jzvTySA2DT5GN'\n",
    "\n",
    "auth = OAuthHandler(consumer_key, consumer_secret)\n",
    "auth.set_access_token(token_key, token_secret)\n"
   ]
  },
  {
   "cell_type": "code",
   "execution_count": 3,
   "metadata": {
    "ExecuteTime": {
     "end_time": "2020-09-11T08:55:49.162586Z",
     "start_time": "2020-09-11T08:55:49.151587Z"
    },
    "colab": {},
    "colab_type": "code",
    "id": "OvlQwz2Pdr_N"
   },
   "outputs": [],
   "source": [
    "# connect, second and third argument are needed to avoid timeout exception but theres still problems\n",
    "api = API(auth, wait_on_rate_limit = True, wait_on_rate_limit_notify = True)"
   ]
  },
  {
   "cell_type": "code",
   "execution_count": 4,
   "metadata": {
    "ExecuteTime": {
     "end_time": "2020-09-11T08:55:50.916600Z",
     "start_time": "2020-09-11T08:55:50.913635Z"
    }
   },
   "outputs": [],
   "source": [
    "# get the list of files inside a path\n",
    "def get_files(root,ext = '.jpg',flist =None):\n",
    "    if flist is None:\n",
    "        flist = []\n",
    "    for root,directories,filenames in os.walk(root):\n",
    "        for filename in filenames:\n",
    "            if filename.endswith(ext):\n",
    "                fpath = os.path.join(root,filename)\n",
    "                flist.append(fpath)\n",
    "    return flist"
   ]
  },
  {
   "cell_type": "code",
   "execution_count": 5,
   "metadata": {
    "ExecuteTime": {
     "end_time": "2020-09-11T08:55:51.663342Z",
     "start_time": "2020-09-11T08:55:51.634082Z"
    }
   },
   "outputs": [],
   "source": [
    "# query params\n",
    "keywords = pd.read_csv('keywords.csv', header=0)\n",
    "geolocation = \"50.736455137010665,-2.2961425781250004,30mi\"\n",
    "today = datetime.date.today()\n",
    "lastweek = (today - datetime.timedelta(days=7)).strftime('%Y-%m-%d')"
   ]
  },
  {
   "cell_type": "code",
   "execution_count": 27,
   "metadata": {
    "ExecuteTime": {
     "end_time": "2020-09-11T09:04:25.835796Z",
     "start_time": "2020-09-11T09:04:25.823757Z"
    }
   },
   "outputs": [],
   "source": [
    "# making query statement\n",
    "queries=[]\n",
    "\n",
    "for j in range(keywords.shape[1]):\n",
    "    s=\"\"\n",
    "    for i in range(keywords.shape[0]):\n",
    "        if not pd.isnull(keywords.iloc[i,j]):\n",
    "            s += \"\\\"\" + keywords.iloc[i,j] + \"\\\"\" + ' OR '\n",
    "    queries.append(s[:-4])\n"
   ]
  },
  {
   "cell_type": "code",
   "execution_count": 28,
   "metadata": {
    "ExecuteTime": {
     "end_time": "2020-09-11T09:05:17.759475Z",
     "start_time": "2020-09-11T09:04:26.770826Z"
    }
   },
   "outputs": [
    {
     "data": {
      "application/vnd.jupyter.widget-view+json": {
       "model_id": "5bc962c7e9b34611bf62e1df5ad0c3b6",
       "version_major": 2,
       "version_minor": 0
      },
      "text/plain": [
       "HBox(children=(FloatProgress(value=0.0, max=2.0), HTML(value='')))"
      ]
     },
     "metadata": {},
     "output_type": "display_data"
    },
    {
     "name": "stdout",
     "output_type": "stream",
     "text": [
      "\n"
     ]
    }
   ],
   "source": [
    "queries = queries[:2]\n",
    "data =[]\n",
    "for query in tqdm(queries): \n",
    "    for tweet in tweepy.Cursor(api.search,\n",
    "                               q=query,\n",
    "                               count=100,\n",
    "                               result_type=\"recent\",\n",
    "                               include_entities=True,\n",
    "                               lang=\"en\",\n",
    "                               geocode=geolocation,\n",
    "                               since = lastweek).items():\n",
    "        data.append(tweet._json)"
   ]
  },
  {
   "cell_type": "code",
   "execution_count": 29,
   "metadata": {
    "ExecuteTime": {
     "end_time": "2020-09-11T09:09:49.580182Z",
     "start_time": "2020-09-11T09:09:48.911213Z"
    }
   },
   "outputs": [],
   "source": [
    "my_list = []\n",
    "for each_dictionary in data:\n",
    "    tweet_id = each_dictionary['id']\n",
    "    name = each_dictionary['user']['name']\n",
    "    screen_name = each_dictionary['user']['screen_name']\n",
    "    bio = each_dictionary['user']['description']\n",
    "    text = each_dictionary['text']\n",
    "    location = each_dictionary['user']['location']\n",
    "    favorite_count = each_dictionary['favorite_count']\n",
    "    retweet_count = each_dictionary['retweet_count']\n",
    "    \n",
    "    created_at = each_dictionary['created_at']\n",
    "    datetime=parser.parse(created_at)\n",
    "    date_of_tweet = datetime.strftime('%Y-%m-%d')\n",
    "    time_of_tweet = datetime.strftime('%H:%M:%S')\n",
    "    \n",
    "    retweet_count = each_dictionary['retweet_count']\n",
    "    if 'RT @' not in each_dictionary['text']:\n",
    "        Tweet_type = 'Tweet'\n",
    "    else:\n",
    "        Tweet_type = 'ReTweet'\n",
    "        \n",
    "    country = []\n",
    "    if each_dictionary['place'] is not None:\n",
    "      Geo_location = each_dictionary['place']['name']\n",
    "      country = each_dictionary['place']['country']\n",
    "      \n",
    "\n",
    "    my_list.append({'Tweet ID':str(tweet_id),\n",
    "                    'Username': str(name),\n",
    "                    'Tweet': str(text),\n",
    "                    'Date of tweet': date_of_tweet,\n",
    "                    'Time of tweet':time_of_tweet,\n",
    "                    'Tweet_type':Tweet_type,\n",
    "                    'Location': str(location)\n",
    "                    })\n",
    "    "
   ]
  },
  {
   "cell_type": "code",
   "execution_count": 30,
   "metadata": {
    "ExecuteTime": {
     "end_time": "2020-09-11T09:09:50.973654Z",
     "start_time": "2020-09-11T09:09:50.927525Z"
    }
   },
   "outputs": [
    {
     "data": {
      "text/html": [
       "<div>\n",
       "<style scoped>\n",
       "    .dataframe tbody tr th:only-of-type {\n",
       "        vertical-align: middle;\n",
       "    }\n",
       "\n",
       "    .dataframe tbody tr th {\n",
       "        vertical-align: top;\n",
       "    }\n",
       "\n",
       "    .dataframe thead th {\n",
       "        text-align: right;\n",
       "    }\n",
       "</style>\n",
       "<table border=\"1\" class=\"dataframe\">\n",
       "  <thead>\n",
       "    <tr style=\"text-align: right;\">\n",
       "      <th></th>\n",
       "      <th>Tweet ID</th>\n",
       "      <th>Username</th>\n",
       "      <th>Tweet</th>\n",
       "      <th>Date of tweet</th>\n",
       "      <th>Time of tweet</th>\n",
       "      <th>Tweet_type</th>\n",
       "      <th>Location</th>\n",
       "    </tr>\n",
       "  </thead>\n",
       "  <tbody>\n",
       "    <tr>\n",
       "      <th>0</th>\n",
       "      <td>1304203789885419521</td>\n",
       "      <td>marionclawson@hotmail.com</td>\n",
       "      <td>RT @DanielWBmouth: Covid Marshalls are being p...</td>\n",
       "      <td>2020-09-10</td>\n",
       "      <td>23:43:09</td>\n",
       "      <td>ReTweet</td>\n",
       "      <td></td>\n",
       "    </tr>\n",
       "    <tr>\n",
       "      <th>1</th>\n",
       "      <td>1304203614278299651</td>\n",
       "      <td>nick scott</td>\n",
       "      <td>RT @DanielWBmouth: Covid Marshalls are being p...</td>\n",
       "      <td>2020-09-10</td>\n",
       "      <td>23:42:27</td>\n",
       "      <td>ReTweet</td>\n",
       "      <td></td>\n",
       "    </tr>\n",
       "    <tr>\n",
       "      <th>2</th>\n",
       "      <td>1304202845839929344</td>\n",
       "      <td>Karen Ankers</td>\n",
       "      <td>RT @DanielWBmouth: Covid Marshalls are being p...</td>\n",
       "      <td>2020-09-10</td>\n",
       "      <td>23:39:24</td>\n",
       "      <td>ReTweet</td>\n",
       "      <td>Anglesey</td>\n",
       "    </tr>\n",
       "    <tr>\n",
       "      <th>3</th>\n",
       "      <td>1304202354603032577</td>\n",
       "      <td>⚫ Margot Williams#NHSLove #GTTO</td>\n",
       "      <td>RT @DanielWBmouth: Covid Marshalls are being p...</td>\n",
       "      <td>2020-09-10</td>\n",
       "      <td>23:37:26</td>\n",
       "      <td>ReTweet</td>\n",
       "      <td>Ross-on-Wye, England</td>\n",
       "    </tr>\n",
       "    <tr>\n",
       "      <th>4</th>\n",
       "      <td>1304201084886368257</td>\n",
       "      <td>Brian P Willmot</td>\n",
       "      <td>@stephphilip8 @realDonaldTrump @RobertKennedyJ...</td>\n",
       "      <td>2020-09-10</td>\n",
       "      <td>23:32:24</td>\n",
       "      <td>Tweet</td>\n",
       "      <td>Bournemouth, England</td>\n",
       "    </tr>\n",
       "  </tbody>\n",
       "</table>\n",
       "</div>"
      ],
      "text/plain": [
       "              Tweet ID                         Username  \\\n",
       "0  1304203789885419521        marionclawson@hotmail.com   \n",
       "1  1304203614278299651                       nick scott   \n",
       "2  1304202845839929344                     Karen Ankers   \n",
       "3  1304202354603032577  ⚫ Margot Williams#NHSLove #GTTO   \n",
       "4  1304201084886368257                  Brian P Willmot   \n",
       "\n",
       "                                               Tweet Date of tweet  \\\n",
       "0  RT @DanielWBmouth: Covid Marshalls are being p...    2020-09-10   \n",
       "1  RT @DanielWBmouth: Covid Marshalls are being p...    2020-09-10   \n",
       "2  RT @DanielWBmouth: Covid Marshalls are being p...    2020-09-10   \n",
       "3  RT @DanielWBmouth: Covid Marshalls are being p...    2020-09-10   \n",
       "4  @stephphilip8 @realDonaldTrump @RobertKennedyJ...    2020-09-10   \n",
       "\n",
       "  Time of tweet Tweet_type              Location  \n",
       "0      23:43:09    ReTweet                        \n",
       "1      23:42:27    ReTweet                        \n",
       "2      23:39:24    ReTweet              Anglesey  \n",
       "3      23:37:26    ReTweet  Ross-on-Wye, England  \n",
       "4      23:32:24      Tweet  Bournemouth, England  "
      ]
     },
     "execution_count": 30,
     "metadata": {},
     "output_type": "execute_result"
    }
   ],
   "source": [
    "df = pd.DataFrame(my_list)\n",
    "df = df[df['Date of tweet']!=today.strftime('%Y-%m-%d')].reset_index(drop=True) # filtering out current date tweets\n",
    "df.head()"
   ]
  },
  {
   "cell_type": "code",
   "execution_count": 103,
   "metadata": {
    "ExecuteTime": {
     "end_time": "2020-09-10T16:36:15.376158Z",
     "start_time": "2020-09-10T16:36:15.320942Z"
    }
   },
   "outputs": [],
   "source": [
    "df.to_csv('tweet_df.csv', index=False)"
   ]
  },
  {
   "cell_type": "code",
   "execution_count": 31,
   "metadata": {
    "ExecuteTime": {
     "end_time": "2020-09-11T09:09:54.122925Z",
     "start_time": "2020-09-11T09:09:54.110333Z"
    }
   },
   "outputs": [
    {
     "data": {
      "text/plain": [
       "(5471, 7)"
      ]
     },
     "execution_count": 31,
     "metadata": {},
     "output_type": "execute_result"
    }
   ],
   "source": [
    "df.shape"
   ]
  },
  {
   "cell_type": "code",
   "execution_count": null,
   "metadata": {},
   "outputs": [],
   "source": []
  }
 ],
 "metadata": {
  "colab": {
   "name": "Untitled0.ipynb",
   "provenance": [],
   "toc_visible": true
  },
  "hide_input": false,
  "kernelspec": {
   "display_name": "Python 3",
   "language": "python",
   "name": "python3"
  },
  "language_info": {
   "codemirror_mode": {
    "name": "ipython",
    "version": 3
   },
   "file_extension": ".py",
   "mimetype": "text/x-python",
   "name": "python",
   "nbconvert_exporter": "python",
   "pygments_lexer": "ipython3",
   "version": "3.7.9"
  },
  "nbTranslate": {
   "displayLangs": [
    "*"
   ],
   "hotkey": "alt-t",
   "langInMainMenu": true,
   "sourceLang": "en",
   "targetLang": "fr",
   "useGoogleTranslate": true
  },
  "toc": {
   "base_numbering": 1,
   "nav_menu": {},
   "number_sections": true,
   "sideBar": true,
   "skip_h1_title": false,
   "title_cell": "Table of Contents",
   "title_sidebar": "Contents",
   "toc_cell": false,
   "toc_position": {},
   "toc_section_display": true,
   "toc_window_display": false
  }
 },
 "nbformat": 4,
 "nbformat_minor": 1
}
